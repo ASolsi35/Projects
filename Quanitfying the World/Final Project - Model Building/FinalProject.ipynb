{
 "cells": [
  {
   "cell_type": "markdown",
   "metadata": {},
   "source": [
    "# Quantifying the World\n",
    "### Final Project - Building the Best Model\n",
    "#### Kelly Carter, Swee K Chew, Vlad Orlov, Anjli Solsi"
   ]
  },
  {
   "cell_type": "markdown",
   "metadata": {},
   "source": [
    "## Introduction"
   ]
  },
  {
   "cell_type": "markdown",
   "metadata": {},
   "source": [
    "An integral activity for all companies to continually grow in success and profitability is looking forward to the future. This requires making predictions based on past and current data, which has contributed to the growth of data science and machine learning. An important task in utilizing data is creating appropriate and accurate models that guide decision-making. Generally, domain knowledge is essential in analyzing data and plays a large role in understanding the results. However, there are often scenarios when domain knowledge cannot be used. There are occasions when either random data is presented or one does not have the domain expertise to fully understand the data. In such cases, with no prior knowledge or metadata, the variables in the data must be treated independently and explored in preliminary analysis and data cleaning. "
   ]
  },
  {
   "cell_type": "markdown",
   "metadata": {},
   "source": [
    "## Background"
   ]
  },
  {
   "cell_type": "markdown",
   "metadata": {},
   "source": [
    "We have been asked to prepare and model an uncharacterized dataset for a binary classification model. Throughout this report, the various steps taken in exploring the data and modeling will be explained. The knowledge provided includes that the classification needs to be performed on the column ‘y’ and that the features are labeled 'x0' through 'x49'. In estimating model performance, a vital consideration is in the prediction model, with an emphasis on correct prediction compared to false positives and false negatives. \n",
    "\n",
    "The goal of this analysis is to minimize the dollar cost on the provided dataset. There is no cost for the classification of true positives and true negatives, but there is a cost for false positives and false negatives. Each false positive will cost 10 dollars and each false negative will cost 500 dollars. "
   ]
  },
  {
   "cell_type": "markdown",
   "metadata": {},
   "source": [
    "## Methods"
   ]
  },
  {
   "cell_type": "markdown",
   "metadata": {},
   "source": [
    "First, the data must be examined, cleaned, and modified for analysis. During this exploratory analysis, the dataset will be tested to check if explanatory variables are repeated. Correlation will also be checked to determine if a possible data leak is present, since correlation would introduce bias into the model. One hot encoding will be performed to convert categorical variables into numerical values that can be used in algorithms. An example of this would be changing the day of the week column into 7 different columns, with each day being its own column and a value of 0 or 1 being assigned based on the day.  \n",
    "\n",
    "Another aspect of explanatory analysis is dealing with missing data. There are three categories of missing data. Missing Completely at Random indicates that there is no relationship between the missingness of the data and any observed or missing values. It is equally likely that data is recorded as it is missing. Missing at Random suggests that there is a systematic relationship between the propensity of missing values and the observed data. In other words, whether an observation is missing is not related to the missing values, but it is related to the values of an observed variable. Missing not at Random implies a discernible pattern to the missing data. An important consideration in choosing the correct approach is the missing data mechanism, since different approaches have different assumptions. \n",
    "\n",
    "Once the mechanism has been determined, there are four methods for imputing missing data. Listwise deletion drops any row that has missing data, which is not regularly used, as valuable data could be lost. Pairwise deletion omits a row of data if a value is missing in a certain column, but the row is retained for use on other columns. Single Imputation leverages patterns and uses data in other columns to determine if a similar trend can be followed for remaining missing values. Hot Deck is similar to single imputation but involves sub-setting data from a column and determining a sub-trend to follow.\n",
    "\n",
    "For our model, we have chosen to use a random forest approach. In the analysis, a base model is first created and further refined with feature elimination. The accuracy of the model is determined by the following metrics:  \n",
    "\n",
    "$$Recall=\\frac{True\\ Positives}{True\\ Positives + False\\ Negatives}$$\n",
    "\n",
    "$$Precision=\\frac{True\\ Positives}{True\\ Positives + False\\ Positives}$$\n",
    "\n",
    "**Recall** is a ratio of the correctly predicted positive instances. This metric penalizes false negatives, which are more costly to the client, so it will be utilized in determining model performance. \n",
    "\n",
    "**Precision** takes into consideration of all positives, both true and false, and penalizes a model that overfits positive results. This will also play a role in determining the appropriateness of the model for the data but to a lesser degree. "
   ]
  },
  {
   "cell_type": "markdown",
   "metadata": {},
   "source": [
    "## Data Cleaning and EDA"
   ]
  },
  {
   "cell_type": "markdown",
   "metadata": {},
   "source": [
    "Before we can begin model building, the data must be appropriately cleaned and analyzed to ensure results from the built model are not affected or biased by imperfections within our data set. This is especially needed here as we don't know what each column within the data represents and cannot use our own pre-existing knowledge to interpret results or better understand the structure of the data. For data cleaning, EDA, and model building, we will rely heavily on functions found in the sklearn library, which are imported in the code blocks below."
   ]
  },
  {
   "cell_type": "code",
   "execution_count": 1,
   "metadata": {
    "collapsed": true
   },
   "outputs": [],
   "source": [
    "import os\n",
    "import random\n",
    "import numpy as np\n",
    "import pandas as pd  \n",
    "import re\n",
    "\n",
    "import matplotlib.pyplot as plt\n",
    "import seaborn as sns"
   ]
  },
  {
   "cell_type": "code",
   "execution_count": 2,
   "metadata": {
    "collapsed": true
   },
   "outputs": [],
   "source": [
    "from sklearn.ensemble import RandomForestClassifier\n",
    "from sklearn.model_selection import train_test_split\n",
    "from sklearn.impute import SimpleImputer\n",
    "from sklearn.metrics import roc_auc_score, precision_score, recall_score, roc_curve\n",
    "from sklearn.preprocessing import StandardScaler\n",
    "from sklearn.model_selection import cross_val_score\n",
    "from sklearn.preprocessing import PolynomialFeatures\n",
    "from sklearn.feature_selection import RFECV\n",
    "from sklearn.model_selection import RandomizedSearchCV"
   ]
  },
  {
   "cell_type": "code",
   "execution_count": 3,
   "metadata": {
    "collapsed": true
   },
   "outputs": [],
   "source": [
    "sns.set(rc={'figure.figsize':(15,10)})\n",
    "sns.set(style=\"whitegrid\")"
   ]
  },
  {
   "cell_type": "markdown",
   "metadata": {},
   "source": [
    "### Load Data"
   ]
  },
  {
   "cell_type": "markdown",
   "metadata": {},
   "source": [
    "After importing our needed libraries and functions, the data is downloaded and the shape of the dataset is determined."
   ]
  },
  {
   "cell_type": "code",
   "execution_count": 4,
   "metadata": {
    "collapsed": true
   },
   "outputs": [],
   "source": [
    "#Change the file path to where the file is\n",
    "\n",
    "df = pd.read_csv(\"final_project.csv\").sample(frac=1.0)"
   ]
  },
  {
   "cell_type": "code",
   "execution_count": 5,
   "metadata": {
    "collapsed": false
   },
   "outputs": [
    {
     "data": {
      "text/html": [
       "<div>\n",
       "<style scoped>\n",
       "    .dataframe tbody tr th:only-of-type {\n",
       "        vertical-align: middle;\n",
       "    }\n",
       "\n",
       "    .dataframe tbody tr th {\n",
       "        vertical-align: top;\n",
       "    }\n",
       "\n",
       "    .dataframe thead th {\n",
       "        text-align: right;\n",
       "    }\n",
       "</style>\n",
       "<table border=\"1\" class=\"dataframe\">\n",
       "  <thead>\n",
       "    <tr style=\"text-align: right;\">\n",
       "      <th></th>\n",
       "      <th>x0</th>\n",
       "      <th>x1</th>\n",
       "      <th>x2</th>\n",
       "      <th>x3</th>\n",
       "      <th>x4</th>\n",
       "      <th>x5</th>\n",
       "      <th>x6</th>\n",
       "      <th>x7</th>\n",
       "      <th>x8</th>\n",
       "      <th>x9</th>\n",
       "      <th>x10</th>\n",
       "      <th>x11</th>\n",
       "      <th>x12</th>\n",
       "      <th>x13</th>\n",
       "      <th>x14</th>\n",
       "      <th>x15</th>\n",
       "      <th>x16</th>\n",
       "      <th>x17</th>\n",
       "      <th>x18</th>\n",
       "      <th>x19</th>\n",
       "      <th>x20</th>\n",
       "      <th>x21</th>\n",
       "      <th>x22</th>\n",
       "      <th>x23</th>\n",
       "      <th>x24</th>\n",
       "      <th>x25</th>\n",
       "      <th>x26</th>\n",
       "      <th>x27</th>\n",
       "      <th>x28</th>\n",
       "      <th>x29</th>\n",
       "      <th>x30</th>\n",
       "      <th>x31</th>\n",
       "      <th>x32</th>\n",
       "      <th>x33</th>\n",
       "      <th>x34</th>\n",
       "      <th>x35</th>\n",
       "      <th>x36</th>\n",
       "      <th>x37</th>\n",
       "      <th>x38</th>\n",
       "      <th>x39</th>\n",
       "      <th>x40</th>\n",
       "      <th>x41</th>\n",
       "      <th>x42</th>\n",
       "      <th>x43</th>\n",
       "      <th>x44</th>\n",
       "      <th>x45</th>\n",
       "      <th>x46</th>\n",
       "      <th>x47</th>\n",
       "      <th>x48</th>\n",
       "      <th>x49</th>\n",
       "      <th>y</th>\n",
       "    </tr>\n",
       "  </thead>\n",
       "  <tbody>\n",
       "    <tr>\n",
       "      <td>81048</td>\n",
       "      <td>0.744276</td>\n",
       "      <td>5.251734</td>\n",
       "      <td>-5.051656</td>\n",
       "      <td>10.424781</td>\n",
       "      <td>-4.853522</td>\n",
       "      <td>-4.109861</td>\n",
       "      <td>-7.344728</td>\n",
       "      <td>11.741162</td>\n",
       "      <td>-2.013181</td>\n",
       "      <td>0.384528</td>\n",
       "      <td>3.917474</td>\n",
       "      <td>-5.059535</td>\n",
       "      <td>1.046894</td>\n",
       "      <td>-5.850372</td>\n",
       "      <td>-5.842374</td>\n",
       "      <td>-2.189432</td>\n",
       "      <td>6.14921</td>\n",
       "      <td>-2.435973</td>\n",
       "      <td>-4.884823</td>\n",
       "      <td>5.482197</td>\n",
       "      <td>-2.743047</td>\n",
       "      <td>3.222325</td>\n",
       "      <td>-6.510889</td>\n",
       "      <td>-4.327968</td>\n",
       "      <td>asia</td>\n",
       "      <td>-0.351842</td>\n",
       "      <td>0.099430</td>\n",
       "      <td>-5.145996</td>\n",
       "      <td>-7.108383</td>\n",
       "      <td>Jun</td>\n",
       "      <td>tuesday</td>\n",
       "      <td>1.357807</td>\n",
       "      <td>0.01%</td>\n",
       "      <td>0.917803</td>\n",
       "      <td>0.637349</td>\n",
       "      <td>0.950621</td>\n",
       "      <td>2.380887</td>\n",
       "      <td>$536.51</td>\n",
       "      <td>9.546019</td>\n",
       "      <td>-1.249264</td>\n",
       "      <td>-2.292685</td>\n",
       "      <td>10.557142</td>\n",
       "      <td>2.734934</td>\n",
       "      <td>1.450936</td>\n",
       "      <td>-2.661196</td>\n",
       "      <td>-0.361389</td>\n",
       "      <td>10.517411</td>\n",
       "      <td>-1.146615</td>\n",
       "      <td>1.968236</td>\n",
       "      <td>15.019123</td>\n",
       "      <td>1</td>\n",
       "    </tr>\n",
       "    <tr>\n",
       "      <td>117972</td>\n",
       "      <td>-0.575503</td>\n",
       "      <td>-5.070590</td>\n",
       "      <td>12.991051</td>\n",
       "      <td>-4.429073</td>\n",
       "      <td>8.255099</td>\n",
       "      <td>-7.875910</td>\n",
       "      <td>18.888013</td>\n",
       "      <td>-47.621298</td>\n",
       "      <td>-11.424129</td>\n",
       "      <td>-7.469235</td>\n",
       "      <td>7.824517</td>\n",
       "      <td>3.418577</td>\n",
       "      <td>-8.894636</td>\n",
       "      <td>8.052494</td>\n",
       "      <td>1.491865</td>\n",
       "      <td>-4.691999</td>\n",
       "      <td>1.01215</td>\n",
       "      <td>-0.393339</td>\n",
       "      <td>8.157995</td>\n",
       "      <td>8.557553</td>\n",
       "      <td>3.861022</td>\n",
       "      <td>16.940928</td>\n",
       "      <td>-10.892302</td>\n",
       "      <td>7.016130</td>\n",
       "      <td>asia</td>\n",
       "      <td>1.583076</td>\n",
       "      <td>0.476654</td>\n",
       "      <td>15.639023</td>\n",
       "      <td>-1.548625</td>\n",
       "      <td>Jun</td>\n",
       "      <td>wednesday</td>\n",
       "      <td>-4.303489</td>\n",
       "      <td>-0.01%</td>\n",
       "      <td>0.417184</td>\n",
       "      <td>14.656569</td>\n",
       "      <td>-1.247905</td>\n",
       "      <td>1.454344</td>\n",
       "      <td>$92.32</td>\n",
       "      <td>23.115872</td>\n",
       "      <td>-6.274106</td>\n",
       "      <td>5.664953</td>\n",
       "      <td>25.564326</td>\n",
       "      <td>-0.438032</td>\n",
       "      <td>1.299866</td>\n",
       "      <td>-2.635216</td>\n",
       "      <td>-0.884379</td>\n",
       "      <td>-29.288922</td>\n",
       "      <td>3.919361</td>\n",
       "      <td>-0.467800</td>\n",
       "      <td>-25.140130</td>\n",
       "      <td>0</td>\n",
       "    </tr>\n",
       "  </tbody>\n",
       "</table>\n",
       "</div>"
      ],
      "text/plain": [
       "              x0        x1         x2         x3        x4        x5  \\\n",
       "81048   0.744276  5.251734  -5.051656  10.424781 -4.853522 -4.109861   \n",
       "117972 -0.575503 -5.070590  12.991051  -4.429073  8.255099 -7.875910   \n",
       "\n",
       "               x6         x7         x8        x9       x10       x11  \\\n",
       "81048   -7.344728  11.741162  -2.013181  0.384528  3.917474 -5.059535   \n",
       "117972  18.888013 -47.621298 -11.424129 -7.469235  7.824517  3.418577   \n",
       "\n",
       "             x12       x13       x14       x15      x16       x17       x18  \\\n",
       "81048   1.046894 -5.850372 -5.842374 -2.189432  6.14921 -2.435973 -4.884823   \n",
       "117972 -8.894636  8.052494  1.491865 -4.691999  1.01215 -0.393339  8.157995   \n",
       "\n",
       "             x19       x20        x21        x22       x23   x24       x25  \\\n",
       "81048   5.482197 -2.743047   3.222325  -6.510889 -4.327968  asia -0.351842   \n",
       "117972  8.557553  3.861022  16.940928 -10.892302  7.016130  asia  1.583076   \n",
       "\n",
       "             x26        x27       x28  x29        x30       x31     x32  \\\n",
       "81048   0.099430  -5.145996 -7.108383  Jun    tuesday  1.357807   0.01%   \n",
       "117972  0.476654  15.639023 -1.548625  Jun  wednesday -4.303489  -0.01%   \n",
       "\n",
       "             x33        x34       x35       x36      x37        x38       x39  \\\n",
       "81048   0.917803   0.637349  0.950621  2.380887  $536.51   9.546019 -1.249264   \n",
       "117972  0.417184  14.656569 -1.247905  1.454344   $92.32  23.115872 -6.274106   \n",
       "\n",
       "             x40        x41       x42       x43       x44       x45  \\\n",
       "81048  -2.292685  10.557142  2.734934  1.450936 -2.661196 -0.361389   \n",
       "117972  5.664953  25.564326 -0.438032  1.299866 -2.635216 -0.884379   \n",
       "\n",
       "              x46       x47       x48        x49  y  \n",
       "81048   10.517411 -1.146615  1.968236  15.019123  1  \n",
       "117972 -29.288922  3.919361 -0.467800 -25.140130  0  "
      ]
     },
     "execution_count": 5,
     "metadata": {},
     "output_type": "execute_result"
    }
   ],
   "source": [
    "pd.options.display.max_columns = None\n",
    "df.head(2)"
   ]
  },
  {
   "cell_type": "code",
   "execution_count": 6,
   "metadata": {
    "collapsed": false
   },
   "outputs": [
    {
     "data": {
      "text/plain": [
       "(160000, 51)"
      ]
     },
     "execution_count": 6,
     "metadata": {},
     "output_type": "execute_result"
    }
   ],
   "source": [
    "df.shape"
   ]
  },
  {
   "cell_type": "markdown",
   "metadata": {},
   "source": [
    "We find the shape of the dataset to have 51 columns (50 explanatory and 1 response variable) and have 160,000 rows."
   ]
  },
  {
   "cell_type": "markdown",
   "metadata": {},
   "source": [
    "### EDA"
   ]
  },
  {
   "cell_type": "markdown",
   "metadata": {},
   "source": [
    "We begin our Exploratory Data Analysis by examining the data type of each column and determining if there are any duplicated rows or missing values."
   ]
  },
  {
   "cell_type": "code",
   "execution_count": 7,
   "metadata": {
    "collapsed": false
   },
   "outputs": [
    {
     "data": {
      "text/plain": [
       "x0     float64\n",
       "x1     float64\n",
       "x2     float64\n",
       "x3     float64\n",
       "x4     float64\n",
       "x5     float64\n",
       "x6     float64\n",
       "x7     float64\n",
       "x8     float64\n",
       "x9     float64\n",
       "x10    float64\n",
       "x11    float64\n",
       "x12    float64\n",
       "x13    float64\n",
       "x14    float64\n",
       "x15    float64\n",
       "x16    float64\n",
       "x17    float64\n",
       "x18    float64\n",
       "x19    float64\n",
       "x20    float64\n",
       "x21    float64\n",
       "x22    float64\n",
       "x23    float64\n",
       "x24     object\n",
       "x25    float64\n",
       "x26    float64\n",
       "x27    float64\n",
       "x28    float64\n",
       "x29     object\n",
       "x30     object\n",
       "x31    float64\n",
       "x32     object\n",
       "x33    float64\n",
       "x34    float64\n",
       "x35    float64\n",
       "x36    float64\n",
       "x37     object\n",
       "x38    float64\n",
       "x39    float64\n",
       "x40    float64\n",
       "x41    float64\n",
       "x42    float64\n",
       "x43    float64\n",
       "x44    float64\n",
       "x45    float64\n",
       "x46    float64\n",
       "x47    float64\n",
       "x48    float64\n",
       "x49    float64\n",
       "y        int64\n",
       "dtype: object"
      ]
     },
     "execution_count": 7,
     "metadata": {},
     "output_type": "execute_result"
    }
   ],
   "source": [
    "df.dtypes"
   ]
  },
  {
   "cell_type": "code",
   "execution_count": 8,
   "metadata": {
    "collapsed": false
   },
   "outputs": [
    {
     "data": {
      "text/plain": [
       "x0     float64\n",
       "x1     float64\n",
       "x2     float64\n",
       "x3     float64\n",
       "x4     float64\n",
       "x5     float64\n",
       "x6     float64\n",
       "x7     float64\n",
       "x8     float64\n",
       "x9     float64\n",
       "x10    float64\n",
       "x11    float64\n",
       "x12    float64\n",
       "x13    float64\n",
       "x14    float64\n",
       "x15    float64\n",
       "x16    float64\n",
       "x17    float64\n",
       "x18    float64\n",
       "x19    float64\n",
       "x20    float64\n",
       "x21    float64\n",
       "x22    float64\n",
       "x23    float64\n",
       "x24     object\n",
       "x25    float64\n",
       "x26    float64\n",
       "x27    float64\n",
       "x28    float64\n",
       "x29     object\n",
       "x30     object\n",
       "x31    float64\n",
       "x32     object\n",
       "x33    float64\n",
       "x34    float64\n",
       "x35    float64\n",
       "x36    float64\n",
       "x37     object\n",
       "x38    float64\n",
       "x39    float64\n",
       "x40    float64\n",
       "x41    float64\n",
       "x42    float64\n",
       "x43    float64\n",
       "x44    float64\n",
       "x45    float64\n",
       "x46    float64\n",
       "x47    float64\n",
       "x48    float64\n",
       "x49    float64\n",
       "y        int64\n",
       "dtype: object"
      ]
     },
     "execution_count": 8,
     "metadata": {},
     "output_type": "execute_result"
    }
   ],
   "source": [
    "#Drop duplicated rows if any \n",
    "df = df.drop_duplicates()\n",
    "df.dtypes"
   ]
  },
  {
   "cell_type": "code",
   "execution_count": 9,
   "metadata": {
    "collapsed": false
   },
   "outputs": [
    {
     "data": {
      "text/plain": [
       "(160000, 51)"
      ]
     },
     "execution_count": 9,
     "metadata": {},
     "output_type": "execute_result"
    }
   ],
   "source": [
    "df.shape"
   ]
  },
  {
   "cell_type": "code",
   "execution_count": 10,
   "metadata": {
    "collapsed": false
   },
   "outputs": [
    {
     "data": {
      "text/plain": [
       "x0     26\n",
       "x1     25\n",
       "x2     38\n",
       "x3     37\n",
       "x4     26\n",
       "x5     37\n",
       "x6     26\n",
       "x7     27\n",
       "x8     21\n",
       "x9     30\n",
       "x10    43\n",
       "x11    30\n",
       "x12    36\n",
       "x13    31\n",
       "x14    34\n",
       "x15    35\n",
       "x16    26\n",
       "x17    27\n",
       "x18    40\n",
       "x19    35\n",
       "x20    38\n",
       "x21    29\n",
       "x22    27\n",
       "x23    47\n",
       "x24    28\n",
       "x25    22\n",
       "x26    36\n",
       "x27    30\n",
       "x28    35\n",
       "x29    30\n",
       "x30    30\n",
       "x31    39\n",
       "x32    31\n",
       "x33    41\n",
       "x34    41\n",
       "x35    30\n",
       "x36    27\n",
       "x37    23\n",
       "x38    31\n",
       "x39    23\n",
       "x40    36\n",
       "x41    40\n",
       "x42    26\n",
       "x43    37\n",
       "x44    40\n",
       "x45    29\n",
       "x46    31\n",
       "x47    37\n",
       "x48    32\n",
       "x49    32\n",
       "y       0\n",
       "dtype: int64"
      ]
     },
     "execution_count": 10,
     "metadata": {},
     "output_type": "execute_result"
    }
   ],
   "source": [
    "#Count of missing data\n",
    "df.isnull().sum()"
   ]
  },
  {
   "cell_type": "markdown",
   "metadata": {},
   "source": [
    "Initial analysis found the majority of the explanatory variables to be floats, except for *x24*, *x29*, *x30*, *x32*, and *x37*, which we will examine in further detail. The response variable is found to be an integer, but is likely a Boolean due to the two rows previously examined show y variable value of 1 and 0; this needs to be further examined and confirmed.\n",
    "\n",
    "After attempting to drop duplicated rows, we find that the data shape did not change showing that there were no duplicated rows. Additionally, when examining for missing values we find that all explanatory variables had missing values, ranging between 21 and 47 instances. This is very minimal considering the size of data set; with the variable having the most missing values only accounting for ~0.03% of all rows. The response variable was found to have no missing values."
   ]
  },
  {
   "cell_type": "code",
   "execution_count": 11,
   "metadata": {
    "collapsed": false
   },
   "outputs": [
    {
     "data": {
      "text/html": [
       "<div>\n",
       "<style scoped>\n",
       "    .dataframe tbody tr th:only-of-type {\n",
       "        vertical-align: middle;\n",
       "    }\n",
       "\n",
       "    .dataframe tbody tr th {\n",
       "        vertical-align: top;\n",
       "    }\n",
       "\n",
       "    .dataframe thead th {\n",
       "        text-align: right;\n",
       "    }\n",
       "</style>\n",
       "<table border=\"1\" class=\"dataframe\">\n",
       "  <thead>\n",
       "    <tr style=\"text-align: right;\">\n",
       "      <th></th>\n",
       "      <th>x24</th>\n",
       "      <th>x29</th>\n",
       "      <th>x30</th>\n",
       "      <th>x32</th>\n",
       "      <th>x37</th>\n",
       "    </tr>\n",
       "  </thead>\n",
       "  <tbody>\n",
       "    <tr>\n",
       "      <td>81048</td>\n",
       "      <td>asia</td>\n",
       "      <td>Jun</td>\n",
       "      <td>tuesday</td>\n",
       "      <td>0.01%</td>\n",
       "      <td>$536.51</td>\n",
       "    </tr>\n",
       "    <tr>\n",
       "      <td>117972</td>\n",
       "      <td>asia</td>\n",
       "      <td>Jun</td>\n",
       "      <td>wednesday</td>\n",
       "      <td>-0.01%</td>\n",
       "      <td>$92.32</td>\n",
       "    </tr>\n",
       "    <tr>\n",
       "      <td>35281</td>\n",
       "      <td>asia</td>\n",
       "      <td>sept.</td>\n",
       "      <td>thurday</td>\n",
       "      <td>-0.0%</td>\n",
       "      <td>$260.46</td>\n",
       "    </tr>\n",
       "    <tr>\n",
       "      <td>53482</td>\n",
       "      <td>asia</td>\n",
       "      <td>Jun</td>\n",
       "      <td>wednesday</td>\n",
       "      <td>-0.01%</td>\n",
       "      <td>$-727.26</td>\n",
       "    </tr>\n",
       "    <tr>\n",
       "      <td>71998</td>\n",
       "      <td>asia</td>\n",
       "      <td>July</td>\n",
       "      <td>wednesday</td>\n",
       "      <td>-0.01%</td>\n",
       "      <td>$232.44</td>\n",
       "    </tr>\n",
       "  </tbody>\n",
       "</table>\n",
       "</div>"
      ],
      "text/plain": [
       "         x24    x29        x30     x32       x37\n",
       "81048   asia    Jun    tuesday   0.01%   $536.51\n",
       "117972  asia    Jun  wednesday  -0.01%    $92.32\n",
       "35281   asia  sept.    thurday   -0.0%   $260.46\n",
       "53482   asia    Jun  wednesday  -0.01%  $-727.26\n",
       "71998   asia   July  wednesday  -0.01%   $232.44"
      ]
     },
     "execution_count": 11,
     "metadata": {},
     "output_type": "execute_result"
    }
   ],
   "source": [
    "#View the attributes with object data type\n",
    "df_cat = df.select_dtypes(include = 'object').copy()\n",
    "df_cat.head()"
   ]
  },
  {
   "cell_type": "markdown",
   "metadata": {},
   "source": [
    "After further review of the non-float explanatory variables, attributes *x32* and *x37* are found to be numeric variables. Since they include a % or $ sign, they were categorized as objects. These signs are removed and the attributes are converted to floats.\n",
    "\n",
    "Additionally, the response variable is converted to a Boolean data type as all value types are found to be either 0 or 1 after examining the data file. Based on this, we are looking at a classification problem."
   ]
  },
  {
   "cell_type": "code",
   "execution_count": 12,
   "metadata": {
    "collapsed": true
   },
   "outputs": [],
   "source": [
    "#remove '$' or '%' and change to float\n",
    "df['x32'] = df.x32.str.replace('%', '')\n",
    "df['x32'] = df['x32'].astype('float')\n",
    "\n",
    "df['x37'] = df.x37.str.replace('$', '')\n",
    "df['x37'] = df['x37'].astype('float')\n",
    "\n",
    "#change the response variable to boolean\n",
    "df['y'] = df['y'].astype('bool')"
   ]
  },
  {
   "cell_type": "code",
   "execution_count": 13,
   "metadata": {
    "collapsed": false
   },
   "outputs": [
    {
     "name": "stdout",
     "output_type": "stream",
     "text": [
      "<class 'pandas.core.frame.DataFrame'>\n",
      "Int64Index: 160000 entries, 81048 to 17032\n",
      "Data columns (total 51 columns):\n",
      "x0     159974 non-null float64\n",
      "x1     159975 non-null float64\n",
      "x2     159962 non-null float64\n",
      "x3     159963 non-null float64\n",
      "x4     159974 non-null float64\n",
      "x5     159963 non-null float64\n",
      "x6     159974 non-null float64\n",
      "x7     159973 non-null float64\n",
      "x8     159979 non-null float64\n",
      "x9     159970 non-null float64\n",
      "x10    159957 non-null float64\n",
      "x11    159970 non-null float64\n",
      "x12    159964 non-null float64\n",
      "x13    159969 non-null float64\n",
      "x14    159966 non-null float64\n",
      "x15    159965 non-null float64\n",
      "x16    159974 non-null float64\n",
      "x17    159973 non-null float64\n",
      "x18    159960 non-null float64\n",
      "x19    159965 non-null float64\n",
      "x20    159962 non-null float64\n",
      "x21    159971 non-null float64\n",
      "x22    159973 non-null float64\n",
      "x23    159953 non-null float64\n",
      "x24    159972 non-null object\n",
      "x25    159978 non-null float64\n",
      "x26    159964 non-null float64\n",
      "x27    159970 non-null float64\n",
      "x28    159965 non-null float64\n",
      "x29    159970 non-null object\n",
      "x30    159970 non-null object\n",
      "x31    159961 non-null float64\n",
      "x32    159969 non-null float64\n",
      "x33    159959 non-null float64\n",
      "x34    159959 non-null float64\n",
      "x35    159970 non-null float64\n",
      "x36    159973 non-null float64\n",
      "x37    159977 non-null float64\n",
      "x38    159969 non-null float64\n",
      "x39    159977 non-null float64\n",
      "x40    159964 non-null float64\n",
      "x41    159960 non-null float64\n",
      "x42    159974 non-null float64\n",
      "x43    159963 non-null float64\n",
      "x44    159960 non-null float64\n",
      "x45    159971 non-null float64\n",
      "x46    159969 non-null float64\n",
      "x47    159963 non-null float64\n",
      "x48    159968 non-null float64\n",
      "x49    159968 non-null float64\n",
      "y      160000 non-null bool\n",
      "dtypes: bool(1), float64(47), object(3)\n",
      "memory usage: 62.4+ MB\n"
     ]
    }
   ],
   "source": [
    "df.info()"
   ]
  },
  {
   "cell_type": "code",
   "execution_count": 14,
   "metadata": {
    "collapsed": false
   },
   "outputs": [
    {
     "data": {
      "text/html": [
       "<div>\n",
       "<style scoped>\n",
       "    .dataframe tbody tr th:only-of-type {\n",
       "        vertical-align: middle;\n",
       "    }\n",
       "\n",
       "    .dataframe tbody tr th {\n",
       "        vertical-align: top;\n",
       "    }\n",
       "\n",
       "    .dataframe thead th {\n",
       "        text-align: right;\n",
       "    }\n",
       "</style>\n",
       "<table border=\"1\" class=\"dataframe\">\n",
       "  <thead>\n",
       "    <tr style=\"text-align: right;\">\n",
       "      <th></th>\n",
       "      <th>x24</th>\n",
       "      <th>x29</th>\n",
       "      <th>x30</th>\n",
       "    </tr>\n",
       "  </thead>\n",
       "  <tbody>\n",
       "    <tr>\n",
       "      <td>81048</td>\n",
       "      <td>asia</td>\n",
       "      <td>Jun</td>\n",
       "      <td>tuesday</td>\n",
       "    </tr>\n",
       "    <tr>\n",
       "      <td>117972</td>\n",
       "      <td>asia</td>\n",
       "      <td>Jun</td>\n",
       "      <td>wednesday</td>\n",
       "    </tr>\n",
       "    <tr>\n",
       "      <td>35281</td>\n",
       "      <td>asia</td>\n",
       "      <td>sept.</td>\n",
       "      <td>thurday</td>\n",
       "    </tr>\n",
       "    <tr>\n",
       "      <td>53482</td>\n",
       "      <td>asia</td>\n",
       "      <td>Jun</td>\n",
       "      <td>wednesday</td>\n",
       "    </tr>\n",
       "    <tr>\n",
       "      <td>71998</td>\n",
       "      <td>asia</td>\n",
       "      <td>July</td>\n",
       "      <td>wednesday</td>\n",
       "    </tr>\n",
       "  </tbody>\n",
       "</table>\n",
       "</div>"
      ],
      "text/plain": [
       "         x24    x29        x30\n",
       "81048   asia    Jun    tuesday\n",
       "117972  asia    Jun  wednesday\n",
       "35281   asia  sept.    thurday\n",
       "53482   asia    Jun  wednesday\n",
       "71998   asia   July  wednesday"
      ]
     },
     "execution_count": 14,
     "metadata": {},
     "output_type": "execute_result"
    }
   ],
   "source": [
    "#Check the variables with the object dtype again\n",
    "df_cat = df.select_dtypes(include = 'object').copy()\n",
    "df_cat.head()"
   ]
  },
  {
   "cell_type": "markdown",
   "metadata": {},
   "source": [
    "Upon further examination of the attributes that are object types, we find that *x24* appears to represent continent, *x29* represents month, *x30* represents day of the week.\n",
    "\n",
    "We will want to examine these categorical variables further for imperfections and may need to clean up the data. As seen above, there are variations for how month is captured, differing uses of formatting and abbreviations (\"sept.\" vs. \"Jun\" vs. \"July), and misspelling of a weekday (\"thurday\")."
   ]
  },
  {
   "cell_type": "markdown",
   "metadata": {},
   "source": [
    "Before examining the categorical variables in further detail, we are going to examine the numeric explanatory variables and the response variable. This is done examining summary statistics and a boxplot for each attribute."
   ]
  },
  {
   "cell_type": "code",
   "execution_count": 15,
   "metadata": {
    "collapsed": false
   },
   "outputs": [
    {
     "data": {
      "text/plain": [
       "(160000, 51)"
      ]
     },
     "execution_count": 15,
     "metadata": {},
     "output_type": "execute_result"
    }
   ],
   "source": [
    "df.shape"
   ]
  },
  {
   "cell_type": "code",
   "execution_count": 16,
   "metadata": {
    "collapsed": false
   },
   "outputs": [
    {
     "data": {
      "text/plain": [
       "(160000, 48)"
      ]
     },
     "execution_count": 16,
     "metadata": {},
     "output_type": "execute_result"
    }
   ],
   "source": [
    "#Explore numeric variables and the response\n",
    "df_num_y = df.drop(['x24', 'x29', 'x30'], axis=1)\n",
    "df_num_y.shape"
   ]
  },
  {
   "cell_type": "code",
   "execution_count": 17,
   "metadata": {
    "collapsed": false,
    "scrolled": true
   },
   "outputs": [
    {
     "data": {
      "text/html": [
       "<div>\n",
       "<style scoped>\n",
       "    .dataframe tbody tr th:only-of-type {\n",
       "        vertical-align: middle;\n",
       "    }\n",
       "\n",
       "    .dataframe tbody tr th {\n",
       "        vertical-align: top;\n",
       "    }\n",
       "\n",
       "    .dataframe thead th {\n",
       "        text-align: right;\n",
       "    }\n",
       "</style>\n",
       "<table border=\"1\" class=\"dataframe\">\n",
       "  <thead>\n",
       "    <tr style=\"text-align: right;\">\n",
       "      <th></th>\n",
       "      <th>x0</th>\n",
       "      <th>x1</th>\n",
       "      <th>x2</th>\n",
       "      <th>x3</th>\n",
       "      <th>x4</th>\n",
       "      <th>x5</th>\n",
       "      <th>x6</th>\n",
       "      <th>x7</th>\n",
       "      <th>x8</th>\n",
       "      <th>x9</th>\n",
       "      <th>x10</th>\n",
       "      <th>x11</th>\n",
       "      <th>x12</th>\n",
       "      <th>x13</th>\n",
       "      <th>x14</th>\n",
       "      <th>x15</th>\n",
       "      <th>x16</th>\n",
       "      <th>x17</th>\n",
       "      <th>x18</th>\n",
       "      <th>x19</th>\n",
       "      <th>x20</th>\n",
       "      <th>x21</th>\n",
       "      <th>x22</th>\n",
       "      <th>x23</th>\n",
       "      <th>x25</th>\n",
       "      <th>x26</th>\n",
       "      <th>x27</th>\n",
       "      <th>x28</th>\n",
       "      <th>x31</th>\n",
       "      <th>x32</th>\n",
       "      <th>x33</th>\n",
       "      <th>x34</th>\n",
       "      <th>x35</th>\n",
       "      <th>x36</th>\n",
       "      <th>x37</th>\n",
       "      <th>x38</th>\n",
       "      <th>x39</th>\n",
       "      <th>x40</th>\n",
       "      <th>x41</th>\n",
       "      <th>x42</th>\n",
       "      <th>x43</th>\n",
       "      <th>x44</th>\n",
       "      <th>x45</th>\n",
       "      <th>x46</th>\n",
       "      <th>x47</th>\n",
       "      <th>x48</th>\n",
       "      <th>x49</th>\n",
       "    </tr>\n",
       "  </thead>\n",
       "  <tbody>\n",
       "    <tr>\n",
       "      <td>count</td>\n",
       "      <td>159974.000000</td>\n",
       "      <td>159975.000000</td>\n",
       "      <td>159962.000000</td>\n",
       "      <td>159963.000000</td>\n",
       "      <td>159974.000000</td>\n",
       "      <td>159963.000000</td>\n",
       "      <td>159974.000000</td>\n",
       "      <td>159973.000000</td>\n",
       "      <td>159979.000000</td>\n",
       "      <td>159970.000000</td>\n",
       "      <td>159957.000000</td>\n",
       "      <td>159970.000000</td>\n",
       "      <td>159964.000000</td>\n",
       "      <td>159969.000000</td>\n",
       "      <td>159966.000000</td>\n",
       "      <td>159965.000000</td>\n",
       "      <td>159974.000000</td>\n",
       "      <td>159973.000000</td>\n",
       "      <td>159960.000000</td>\n",
       "      <td>159965.000000</td>\n",
       "      <td>159962.000000</td>\n",
       "      <td>159971.000000</td>\n",
       "      <td>159973.000000</td>\n",
       "      <td>159953.000000</td>\n",
       "      <td>159978.000000</td>\n",
       "      <td>159964.000000</td>\n",
       "      <td>159970.000000</td>\n",
       "      <td>159965.000000</td>\n",
       "      <td>159961.000000</td>\n",
       "      <td>159969.000000</td>\n",
       "      <td>159959.000000</td>\n",
       "      <td>159959.000000</td>\n",
       "      <td>159970.000000</td>\n",
       "      <td>159973.000000</td>\n",
       "      <td>159977.000000</td>\n",
       "      <td>159969.000000</td>\n",
       "      <td>159977.000000</td>\n",
       "      <td>159964.000000</td>\n",
       "      <td>159960.000000</td>\n",
       "      <td>159974.000000</td>\n",
       "      <td>159963.000000</td>\n",
       "      <td>159960.000000</td>\n",
       "      <td>159971.000000</td>\n",
       "      <td>159969.000000</td>\n",
       "      <td>159963.000000</td>\n",
       "      <td>159968.000000</td>\n",
       "      <td>159968.000000</td>\n",
       "    </tr>\n",
       "    <tr>\n",
       "      <td>mean</td>\n",
       "      <td>-0.001028</td>\n",
       "      <td>0.001358</td>\n",
       "      <td>-1.150145</td>\n",
       "      <td>-0.024637</td>\n",
       "      <td>-0.000549</td>\n",
       "      <td>0.013582</td>\n",
       "      <td>-1.670670</td>\n",
       "      <td>-7.692795</td>\n",
       "      <td>-0.030540</td>\n",
       "      <td>0.005462</td>\n",
       "      <td>0.002253</td>\n",
       "      <td>0.030232</td>\n",
       "      <td>-1.334402</td>\n",
       "      <td>0.007669</td>\n",
       "      <td>0.008104</td>\n",
       "      <td>0.001215</td>\n",
       "      <td>0.006223</td>\n",
       "      <td>0.012040</td>\n",
       "      <td>0.012694</td>\n",
       "      <td>0.024555</td>\n",
       "      <td>0.299074</td>\n",
       "      <td>-0.029137</td>\n",
       "      <td>0.008400</td>\n",
       "      <td>0.722028</td>\n",
       "      <td>-0.000806</td>\n",
       "      <td>-0.001066</td>\n",
       "      <td>-0.004159</td>\n",
       "      <td>0.031543</td>\n",
       "      <td>-0.005945</td>\n",
       "      <td>-0.000011</td>\n",
       "      <td>-0.006567</td>\n",
       "      <td>-0.000426</td>\n",
       "      <td>0.000936</td>\n",
       "      <td>0.006453</td>\n",
       "      <td>0.377628</td>\n",
       "      <td>6.059130</td>\n",
       "      <td>0.004253</td>\n",
       "      <td>-2.316526</td>\n",
       "      <td>6.701076</td>\n",
       "      <td>-1.833820</td>\n",
       "      <td>-0.002091</td>\n",
       "      <td>-0.006250</td>\n",
       "      <td>0.000885</td>\n",
       "      <td>-12.755395</td>\n",
       "      <td>0.028622</td>\n",
       "      <td>-0.000224</td>\n",
       "      <td>-0.674224</td>\n",
       "    </tr>\n",
       "    <tr>\n",
       "      <td>std</td>\n",
       "      <td>0.371137</td>\n",
       "      <td>6.340632</td>\n",
       "      <td>13.273480</td>\n",
       "      <td>8.065032</td>\n",
       "      <td>6.382293</td>\n",
       "      <td>7.670076</td>\n",
       "      <td>19.298665</td>\n",
       "      <td>30.542264</td>\n",
       "      <td>8.901185</td>\n",
       "      <td>6.355040</td>\n",
       "      <td>7.871429</td>\n",
       "      <td>8.769633</td>\n",
       "      <td>14.750990</td>\n",
       "      <td>8.953837</td>\n",
       "      <td>6.964097</td>\n",
       "      <td>3.271779</td>\n",
       "      <td>4.984065</td>\n",
       "      <td>7.569351</td>\n",
       "      <td>4.540714</td>\n",
       "      <td>7.595316</td>\n",
       "      <td>5.806203</td>\n",
       "      <td>9.409635</td>\n",
       "      <td>5.412010</td>\n",
       "      <td>14.909127</td>\n",
       "      <td>1.263656</td>\n",
       "      <td>0.843258</td>\n",
       "      <td>6.774047</td>\n",
       "      <td>14.439534</td>\n",
       "      <td>2.767508</td>\n",
       "      <td>0.010400</td>\n",
       "      <td>1.747762</td>\n",
       "      <td>8.014180</td>\n",
       "      <td>2.379558</td>\n",
       "      <td>1.593183</td>\n",
       "      <td>999.945334</td>\n",
       "      <td>16.891603</td>\n",
       "      <td>5.134322</td>\n",
       "      <td>17.043549</td>\n",
       "      <td>18.680196</td>\n",
       "      <td>5.110705</td>\n",
       "      <td>1.534952</td>\n",
       "      <td>4.164595</td>\n",
       "      <td>0.396621</td>\n",
       "      <td>36.608641</td>\n",
       "      <td>4.788157</td>\n",
       "      <td>1.935501</td>\n",
       "      <td>15.036738</td>\n",
       "    </tr>\n",
       "    <tr>\n",
       "      <td>min</td>\n",
       "      <td>-1.592635</td>\n",
       "      <td>-26.278302</td>\n",
       "      <td>-59.394048</td>\n",
       "      <td>-35.476594</td>\n",
       "      <td>-28.467536</td>\n",
       "      <td>-33.822988</td>\n",
       "      <td>-86.354483</td>\n",
       "      <td>-181.506976</td>\n",
       "      <td>-37.691045</td>\n",
       "      <td>-27.980659</td>\n",
       "      <td>-36.306571</td>\n",
       "      <td>-38.092869</td>\n",
       "      <td>-64.197967</td>\n",
       "      <td>-38.723514</td>\n",
       "      <td>-30.905214</td>\n",
       "      <td>-17.002359</td>\n",
       "      <td>-26.042983</td>\n",
       "      <td>-34.395898</td>\n",
       "      <td>-20.198686</td>\n",
       "      <td>-35.633396</td>\n",
       "      <td>-26.677396</td>\n",
       "      <td>-43.501854</td>\n",
       "      <td>-23.644193</td>\n",
       "      <td>-66.640341</td>\n",
       "      <td>-6.364653</td>\n",
       "      <td>-3.857484</td>\n",
       "      <td>-32.003555</td>\n",
       "      <td>-72.896705</td>\n",
       "      <td>-12.289364</td>\n",
       "      <td>-0.050000</td>\n",
       "      <td>-7.451454</td>\n",
       "      <td>-36.116606</td>\n",
       "      <td>-10.008149</td>\n",
       "      <td>-6.866024</td>\n",
       "      <td>-4734.540000</td>\n",
       "      <td>-74.297559</td>\n",
       "      <td>-22.101647</td>\n",
       "      <td>-74.059196</td>\n",
       "      <td>-82.167224</td>\n",
       "      <td>-27.933750</td>\n",
       "      <td>-6.876234</td>\n",
       "      <td>-17.983487</td>\n",
       "      <td>-1.753221</td>\n",
       "      <td>-201.826828</td>\n",
       "      <td>-21.086333</td>\n",
       "      <td>-8.490155</td>\n",
       "      <td>-65.791191</td>\n",
       "    </tr>\n",
       "    <tr>\n",
       "      <td>25%</td>\n",
       "      <td>-0.251641</td>\n",
       "      <td>-4.260973</td>\n",
       "      <td>-10.166536</td>\n",
       "      <td>-5.454438</td>\n",
       "      <td>-4.313118</td>\n",
       "      <td>-5.148130</td>\n",
       "      <td>-14.780146</td>\n",
       "      <td>-27.324771</td>\n",
       "      <td>-6.031058</td>\n",
       "      <td>-4.260619</td>\n",
       "      <td>-5.288196</td>\n",
       "      <td>-5.903274</td>\n",
       "      <td>-11.379492</td>\n",
       "      <td>-6.029945</td>\n",
       "      <td>-4.696755</td>\n",
       "      <td>-2.207774</td>\n",
       "      <td>-3.344027</td>\n",
       "      <td>-5.071470</td>\n",
       "      <td>-3.056131</td>\n",
       "      <td>-5.101553</td>\n",
       "      <td>-3.607789</td>\n",
       "      <td>-6.361115</td>\n",
       "      <td>-3.649766</td>\n",
       "      <td>-9.268532</td>\n",
       "      <td>-0.852784</td>\n",
       "      <td>-0.567293</td>\n",
       "      <td>-4.597919</td>\n",
       "      <td>-9.702464</td>\n",
       "      <td>-1.874206</td>\n",
       "      <td>-0.010000</td>\n",
       "      <td>-1.183681</td>\n",
       "      <td>-5.401084</td>\n",
       "      <td>-1.610337</td>\n",
       "      <td>-1.068337</td>\n",
       "      <td>-691.370000</td>\n",
       "      <td>-5.249882</td>\n",
       "      <td>-3.458716</td>\n",
       "      <td>-13.953629</td>\n",
       "      <td>-5.804080</td>\n",
       "      <td>-5.162869</td>\n",
       "      <td>-1.039677</td>\n",
       "      <td>-2.812055</td>\n",
       "      <td>-0.266518</td>\n",
       "      <td>-36.428329</td>\n",
       "      <td>-3.216016</td>\n",
       "      <td>-1.320800</td>\n",
       "      <td>-10.931753</td>\n",
       "    </tr>\n",
       "    <tr>\n",
       "      <td>50%</td>\n",
       "      <td>-0.002047</td>\n",
       "      <td>0.004813</td>\n",
       "      <td>-1.340932</td>\n",
       "      <td>-0.031408</td>\n",
       "      <td>0.000857</td>\n",
       "      <td>0.014118</td>\n",
       "      <td>-1.948594</td>\n",
       "      <td>-6.956789</td>\n",
       "      <td>-0.016840</td>\n",
       "      <td>0.006045</td>\n",
       "      <td>-0.018176</td>\n",
       "      <td>0.010941</td>\n",
       "      <td>-1.624439</td>\n",
       "      <td>-0.003473</td>\n",
       "      <td>0.002467</td>\n",
       "      <td>0.003535</td>\n",
       "      <td>0.012754</td>\n",
       "      <td>0.024541</td>\n",
       "      <td>0.015904</td>\n",
       "      <td>0.044703</td>\n",
       "      <td>0.433055</td>\n",
       "      <td>-0.026385</td>\n",
       "      <td>0.011144</td>\n",
       "      <td>1.029609</td>\n",
       "      <td>-0.003723</td>\n",
       "      <td>-0.001501</td>\n",
       "      <td>0.037138</td>\n",
       "      <td>0.244210</td>\n",
       "      <td>0.002013</td>\n",
       "      <td>0.000000</td>\n",
       "      <td>-0.006079</td>\n",
       "      <td>-0.013089</td>\n",
       "      <td>-0.002399</td>\n",
       "      <td>0.003645</td>\n",
       "      <td>-13.760000</td>\n",
       "      <td>6.184410</td>\n",
       "      <td>0.019068</td>\n",
       "      <td>-2.701867</td>\n",
       "      <td>6.840110</td>\n",
       "      <td>-1.923754</td>\n",
       "      <td>-0.004385</td>\n",
       "      <td>-0.010484</td>\n",
       "      <td>0.001645</td>\n",
       "      <td>-12.982497</td>\n",
       "      <td>0.035865</td>\n",
       "      <td>-0.011993</td>\n",
       "      <td>-0.574410</td>\n",
       "    </tr>\n",
       "    <tr>\n",
       "      <td>75%</td>\n",
       "      <td>0.248532</td>\n",
       "      <td>4.284220</td>\n",
       "      <td>7.871676</td>\n",
       "      <td>5.445179</td>\n",
       "      <td>4.306660</td>\n",
       "      <td>5.190749</td>\n",
       "      <td>11.446931</td>\n",
       "      <td>12.217071</td>\n",
       "      <td>5.972349</td>\n",
       "      <td>4.305734</td>\n",
       "      <td>5.331573</td>\n",
       "      <td>5.935032</td>\n",
       "      <td>8.374524</td>\n",
       "      <td>6.041959</td>\n",
       "      <td>4.701299</td>\n",
       "      <td>2.211660</td>\n",
       "      <td>3.366853</td>\n",
       "      <td>5.101962</td>\n",
       "      <td>3.073002</td>\n",
       "      <td>5.164732</td>\n",
       "      <td>4.306566</td>\n",
       "      <td>6.316457</td>\n",
       "      <td>3.672678</td>\n",
       "      <td>11.028035</td>\n",
       "      <td>0.851765</td>\n",
       "      <td>0.567406</td>\n",
       "      <td>4.649773</td>\n",
       "      <td>9.936995</td>\n",
       "      <td>1.856369</td>\n",
       "      <td>0.010000</td>\n",
       "      <td>1.179460</td>\n",
       "      <td>5.411667</td>\n",
       "      <td>1.603089</td>\n",
       "      <td>1.079895</td>\n",
       "      <td>664.210000</td>\n",
       "      <td>17.420148</td>\n",
       "      <td>3.463308</td>\n",
       "      <td>8.981616</td>\n",
       "      <td>19.266367</td>\n",
       "      <td>1.453507</td>\n",
       "      <td>1.033275</td>\n",
       "      <td>2.783274</td>\n",
       "      <td>0.269049</td>\n",
       "      <td>11.445443</td>\n",
       "      <td>3.268028</td>\n",
       "      <td>1.317703</td>\n",
       "      <td>9.651072</td>\n",
       "    </tr>\n",
       "    <tr>\n",
       "      <td>max</td>\n",
       "      <td>1.600849</td>\n",
       "      <td>27.988178</td>\n",
       "      <td>63.545653</td>\n",
       "      <td>38.906025</td>\n",
       "      <td>26.247812</td>\n",
       "      <td>35.550110</td>\n",
       "      <td>92.390605</td>\n",
       "      <td>149.150634</td>\n",
       "      <td>39.049831</td>\n",
       "      <td>27.377842</td>\n",
       "      <td>37.945583</td>\n",
       "      <td>36.360443</td>\n",
       "      <td>73.279354</td>\n",
       "      <td>42.392177</td>\n",
       "      <td>32.546340</td>\n",
       "      <td>13.782559</td>\n",
       "      <td>21.961123</td>\n",
       "      <td>37.057048</td>\n",
       "      <td>19.652986</td>\n",
       "      <td>33.515550</td>\n",
       "      <td>27.814560</td>\n",
       "      <td>46.237503</td>\n",
       "      <td>24.863012</td>\n",
       "      <td>58.490500</td>\n",
       "      <td>5.314169</td>\n",
       "      <td>3.951652</td>\n",
       "      <td>28.645074</td>\n",
       "      <td>67.753845</td>\n",
       "      <td>12.279356</td>\n",
       "      <td>0.050000</td>\n",
       "      <td>7.787120</td>\n",
       "      <td>34.841428</td>\n",
       "      <td>9.892426</td>\n",
       "      <td>6.999544</td>\n",
       "      <td>5546.990000</td>\n",
       "      <td>90.467981</td>\n",
       "      <td>21.545591</td>\n",
       "      <td>88.824477</td>\n",
       "      <td>100.050432</td>\n",
       "      <td>22.668041</td>\n",
       "      <td>6.680922</td>\n",
       "      <td>19.069759</td>\n",
       "      <td>1.669205</td>\n",
       "      <td>150.859415</td>\n",
       "      <td>20.836854</td>\n",
       "      <td>8.226552</td>\n",
       "      <td>66.877604</td>\n",
       "    </tr>\n",
       "  </tbody>\n",
       "</table>\n",
       "</div>"
      ],
      "text/plain": [
       "                  x0             x1             x2             x3  \\\n",
       "count  159974.000000  159975.000000  159962.000000  159963.000000   \n",
       "mean       -0.001028       0.001358      -1.150145      -0.024637   \n",
       "std         0.371137       6.340632      13.273480       8.065032   \n",
       "min        -1.592635     -26.278302     -59.394048     -35.476594   \n",
       "25%        -0.251641      -4.260973     -10.166536      -5.454438   \n",
       "50%        -0.002047       0.004813      -1.340932      -0.031408   \n",
       "75%         0.248532       4.284220       7.871676       5.445179   \n",
       "max         1.600849      27.988178      63.545653      38.906025   \n",
       "\n",
       "                  x4             x5             x6             x7  \\\n",
       "count  159974.000000  159963.000000  159974.000000  159973.000000   \n",
       "mean       -0.000549       0.013582      -1.670670      -7.692795   \n",
       "std         6.382293       7.670076      19.298665      30.542264   \n",
       "min       -28.467536     -33.822988     -86.354483    -181.506976   \n",
       "25%        -4.313118      -5.148130     -14.780146     -27.324771   \n",
       "50%         0.000857       0.014118      -1.948594      -6.956789   \n",
       "75%         4.306660       5.190749      11.446931      12.217071   \n",
       "max        26.247812      35.550110      92.390605     149.150634   \n",
       "\n",
       "                  x8             x9            x10            x11  \\\n",
       "count  159979.000000  159970.000000  159957.000000  159970.000000   \n",
       "mean       -0.030540       0.005462       0.002253       0.030232   \n",
       "std         8.901185       6.355040       7.871429       8.769633   \n",
       "min       -37.691045     -27.980659     -36.306571     -38.092869   \n",
       "25%        -6.031058      -4.260619      -5.288196      -5.903274   \n",
       "50%        -0.016840       0.006045      -0.018176       0.010941   \n",
       "75%         5.972349       4.305734       5.331573       5.935032   \n",
       "max        39.049831      27.377842      37.945583      36.360443   \n",
       "\n",
       "                 x12            x13            x14            x15  \\\n",
       "count  159964.000000  159969.000000  159966.000000  159965.000000   \n",
       "mean       -1.334402       0.007669       0.008104       0.001215   \n",
       "std        14.750990       8.953837       6.964097       3.271779   \n",
       "min       -64.197967     -38.723514     -30.905214     -17.002359   \n",
       "25%       -11.379492      -6.029945      -4.696755      -2.207774   \n",
       "50%        -1.624439      -0.003473       0.002467       0.003535   \n",
       "75%         8.374524       6.041959       4.701299       2.211660   \n",
       "max        73.279354      42.392177      32.546340      13.782559   \n",
       "\n",
       "                 x16            x17            x18            x19  \\\n",
       "count  159974.000000  159973.000000  159960.000000  159965.000000   \n",
       "mean        0.006223       0.012040       0.012694       0.024555   \n",
       "std         4.984065       7.569351       4.540714       7.595316   \n",
       "min       -26.042983     -34.395898     -20.198686     -35.633396   \n",
       "25%        -3.344027      -5.071470      -3.056131      -5.101553   \n",
       "50%         0.012754       0.024541       0.015904       0.044703   \n",
       "75%         3.366853       5.101962       3.073002       5.164732   \n",
       "max        21.961123      37.057048      19.652986      33.515550   \n",
       "\n",
       "                 x20            x21            x22            x23  \\\n",
       "count  159962.000000  159971.000000  159973.000000  159953.000000   \n",
       "mean        0.299074      -0.029137       0.008400       0.722028   \n",
       "std         5.806203       9.409635       5.412010      14.909127   \n",
       "min       -26.677396     -43.501854     -23.644193     -66.640341   \n",
       "25%        -3.607789      -6.361115      -3.649766      -9.268532   \n",
       "50%         0.433055      -0.026385       0.011144       1.029609   \n",
       "75%         4.306566       6.316457       3.672678      11.028035   \n",
       "max        27.814560      46.237503      24.863012      58.490500   \n",
       "\n",
       "                 x25            x26            x27            x28  \\\n",
       "count  159978.000000  159964.000000  159970.000000  159965.000000   \n",
       "mean       -0.000806      -0.001066      -0.004159       0.031543   \n",
       "std         1.263656       0.843258       6.774047      14.439534   \n",
       "min        -6.364653      -3.857484     -32.003555     -72.896705   \n",
       "25%        -0.852784      -0.567293      -4.597919      -9.702464   \n",
       "50%        -0.003723      -0.001501       0.037138       0.244210   \n",
       "75%         0.851765       0.567406       4.649773       9.936995   \n",
       "max         5.314169       3.951652      28.645074      67.753845   \n",
       "\n",
       "                 x31            x32            x33            x34  \\\n",
       "count  159961.000000  159969.000000  159959.000000  159959.000000   \n",
       "mean       -0.005945      -0.000011      -0.006567      -0.000426   \n",
       "std         2.767508       0.010400       1.747762       8.014180   \n",
       "min       -12.289364      -0.050000      -7.451454     -36.116606   \n",
       "25%        -1.874206      -0.010000      -1.183681      -5.401084   \n",
       "50%         0.002013       0.000000      -0.006079      -0.013089   \n",
       "75%         1.856369       0.010000       1.179460       5.411667   \n",
       "max        12.279356       0.050000       7.787120      34.841428   \n",
       "\n",
       "                 x35            x36            x37            x38  \\\n",
       "count  159970.000000  159973.000000  159977.000000  159969.000000   \n",
       "mean        0.000936       0.006453       0.377628       6.059130   \n",
       "std         2.379558       1.593183     999.945334      16.891603   \n",
       "min       -10.008149      -6.866024   -4734.540000     -74.297559   \n",
       "25%        -1.610337      -1.068337    -691.370000      -5.249882   \n",
       "50%        -0.002399       0.003645     -13.760000       6.184410   \n",
       "75%         1.603089       1.079895     664.210000      17.420148   \n",
       "max         9.892426       6.999544    5546.990000      90.467981   \n",
       "\n",
       "                 x39            x40            x41            x42  \\\n",
       "count  159977.000000  159964.000000  159960.000000  159974.000000   \n",
       "mean        0.004253      -2.316526       6.701076      -1.833820   \n",
       "std         5.134322      17.043549      18.680196       5.110705   \n",
       "min       -22.101647     -74.059196     -82.167224     -27.933750   \n",
       "25%        -3.458716     -13.953629      -5.804080      -5.162869   \n",
       "50%         0.019068      -2.701867       6.840110      -1.923754   \n",
       "75%         3.463308       8.981616      19.266367       1.453507   \n",
       "max        21.545591      88.824477     100.050432      22.668041   \n",
       "\n",
       "                 x43            x44            x45            x46  \\\n",
       "count  159963.000000  159960.000000  159971.000000  159969.000000   \n",
       "mean       -0.002091      -0.006250       0.000885     -12.755395   \n",
       "std         1.534952       4.164595       0.396621      36.608641   \n",
       "min        -6.876234     -17.983487      -1.753221    -201.826828   \n",
       "25%        -1.039677      -2.812055      -0.266518     -36.428329   \n",
       "50%        -0.004385      -0.010484       0.001645     -12.982497   \n",
       "75%         1.033275       2.783274       0.269049      11.445443   \n",
       "max         6.680922      19.069759       1.669205     150.859415   \n",
       "\n",
       "                 x47            x48            x49  \n",
       "count  159963.000000  159968.000000  159968.000000  \n",
       "mean        0.028622      -0.000224      -0.674224  \n",
       "std         4.788157       1.935501      15.036738  \n",
       "min       -21.086333      -8.490155     -65.791191  \n",
       "25%        -3.216016      -1.320800     -10.931753  \n",
       "50%         0.035865      -0.011993      -0.574410  \n",
       "75%         3.268028       1.317703       9.651072  \n",
       "max        20.836854       8.226552      66.877604  "
      ]
     },
     "execution_count": 17,
     "metadata": {},
     "output_type": "execute_result"
    }
   ],
   "source": [
    "df_num_y.describe()"
   ]
  },
  {
   "cell_type": "markdown",
   "metadata": {},
   "source": [
    "Examining the summary statistics, we find that the majority of the numeric explanatory variables have a mean around 0. Only five attributes have means with an absolute value greater than 2, *x7*, *x38*, *x40*, *x41*, and *x46*, with *x46* have the largest mean with an absolute value of 12.76.\n",
    "\n",
    "We additionally find that for the majority of attributes that the mean and median are close in value. There is only one attribute where the difference between the mean and median is greater than 1, *x37*; the difference here is 14.14, but this variable also has the largest range of attributes at 10,281.53 (the next highest range is 352.69, which also happens to be *x46*). This range shows that this mean vs. median difference wouldn't negate the possibility of this attribute having a normal distribution. We additionally find that the five attributes that have means with an absolute value of greater than 2 also have larger ranges comparitively, with all five being in the top seven largest ranges.\n",
    "\n",
    "Based on these findings, it appears that the numeric explanatory variables have distributions that similar to normal distributions centered on 0. We will explore boxplots for each of these attributes next to see if this observation holds."
   ]
  },
  {
   "cell_type": "code",
   "execution_count": 18,
   "metadata": {
    "collapsed": false,
    "scrolled": false
   },
   "outputs": [
    {
     "data": {
      "image/png": "[encoded data removed]",
      "text/plain": [
       "<Figure size 1728x5760 with 48 Axes>"
      ]
     },
     "metadata": {},
     "output_type": "display_data"
    }
   ],
   "source": [
    "n_rows = 16\n",
    "n_columns = 3\n",
    "f, axes = plt.subplots(n_rows, n_columns, figsize=(8 * n_columns, 5 * n_rows))\n",
    "for i, c in enumerate(df_num_y.columns):\n",
    "    sns.boxplot(y = c, data = df_num_y, ax = axes[i // n_columns, i % n_columns])\n",
    "plt.tight_layout()\n",
    "plt.show()"
   ]
  },
  {
   "cell_type": "markdown",
   "metadata": {},
   "source": [
    "<center>**Figure 1:** Box Plots that show the Distribution of Numeric Attributes and Response Variable</center>"
   ]
  },
  {
   "cell_type": "markdown",
   "metadata": {},
   "source": [
    "The boxplots show further evidence for the explanatory attributes resembling normal distributions as the interquartile range boxes appear centered on the median and the minimum and maximum whiskers appear to be of equal length."
   ]
  },
  {
   "cell_type": "code",
   "execution_count": 26,
   "metadata": {
    "collapsed": false
   },
   "outputs": [
    {
     "data": {
      "image/png": "[encoded data removed]",
      "text/plain": [
       "<Figure size 1080x720 with 1 Axes>"
      ]
     },
     "metadata": {},
     "output_type": "display_data"
    }
   ],
   "source": [
    "ax = sns.countplot(df['y'], order = df['y'].value_counts().index)\n",
    "_ = ax.set(title='Unique values of y')"
   ]
  },
  {
   "cell_type": "markdown",
   "metadata": {},
   "source": [
    "<center>**Figure 2:** Frequency Plot for the Response Variable, y </center>"
   ]
  },
  {
   "cell_type": "markdown",
   "metadata": {},
   "source": [
    "Further review of the response variable show a roughly 40/60, true/false distribution."
   ]
  },
  {
   "cell_type": "markdown",
   "metadata": {},
   "source": [
    "Next, we complete further analysis on the categorical variables. This is done by the use of frequency plots for counts of each unique variable and counts of each unique variable by response type for each categorical variable.\n",
    "\n",
    "Additionally, as we do this examination, we need to ensure that there no imperfections in the data as previously noted."
   ]
  },
  {
   "cell_type": "code",
   "execution_count": 19,
   "metadata": {
    "collapsed": false
   },
   "outputs": [
    {
     "data": {
      "text/html": [
       "<div>\n",
       "<style scoped>\n",
       "    .dataframe tbody tr th:only-of-type {\n",
       "        vertical-align: middle;\n",
       "    }\n",
       "\n",
       "    .dataframe tbody tr th {\n",
       "        vertical-align: top;\n",
       "    }\n",
       "\n",
       "    .dataframe thead th {\n",
       "        text-align: right;\n",
       "    }\n",
       "</style>\n",
       "<table border=\"1\" class=\"dataframe\">\n",
       "  <thead>\n",
       "    <tr style=\"text-align: right;\">\n",
       "      <th></th>\n",
       "      <th>x24</th>\n",
       "      <th>x29</th>\n",
       "      <th>x30</th>\n",
       "    </tr>\n",
       "  </thead>\n",
       "  <tbody>\n",
       "    <tr>\n",
       "      <td>count</td>\n",
       "      <td>159972</td>\n",
       "      <td>159970</td>\n",
       "      <td>159970</td>\n",
       "    </tr>\n",
       "    <tr>\n",
       "      <td>unique</td>\n",
       "      <td>3</td>\n",
       "      <td>12</td>\n",
       "      <td>5</td>\n",
       "    </tr>\n",
       "    <tr>\n",
       "      <td>top</td>\n",
       "      <td>asia</td>\n",
       "      <td>July</td>\n",
       "      <td>wednesday</td>\n",
       "    </tr>\n",
       "    <tr>\n",
       "      <td>freq</td>\n",
       "      <td>138965</td>\n",
       "      <td>45569</td>\n",
       "      <td>101535</td>\n",
       "    </tr>\n",
       "  </tbody>\n",
       "</table>\n",
       "</div>"
      ],
      "text/plain": [
       "           x24     x29        x30\n",
       "count   159972  159970     159970\n",
       "unique       3      12          5\n",
       "top       asia    July  wednesday\n",
       "freq    138965   45569     101535"
      ]
     },
     "execution_count": 19,
     "metadata": {},
     "output_type": "execute_result"
    }
   ],
   "source": [
    "df_cat.describe()"
   ]
  },
  {
   "cell_type": "markdown",
   "metadata": {},
   "source": [
    "First, we examine *x24*, which represents region, slightly different than our previous hypothesis. There are three unique values, Asia, Europe, and America, which could represent business regions. "
   ]
  },
  {
   "cell_type": "code",
   "execution_count": 20,
   "metadata": {
    "collapsed": false
   },
   "outputs": [
    {
     "data": {
      "image/png": "[encoded data removed]",
      "text/plain": [
       "<Figure size 1080x720 with 1 Axes>"
      ]
     },
     "metadata": {},
     "output_type": "display_data"
    }
   ],
   "source": [
    "ax = sns.countplot(df_cat.x24, order = df_cat.x24.value_counts().index)\n",
    "_ = ax.set(title='Unique values of x24')"
   ]
  },
  {
   "cell_type": "markdown",
   "metadata": {},
   "source": [
    "<center>**Figure 3:** Frequency Plot for the Categorical Attribute, x24 </center>"
   ]
  },
  {
   "cell_type": "markdown",
   "metadata": {},
   "source": [
    "The majority of values of *x24* are equal to Asia, with a frequency of 138,965 representing 86.87% of all values. Next highest is Europe with 16,538 values and the lowest is America with 4,469 values. 28 rows are missing this value."
   ]
  },
  {
   "cell_type": "code",
   "execution_count": 21,
   "metadata": {
    "collapsed": false
   },
   "outputs": [
    {
     "data": {
      "image/png": "[encoded data removed]",
      "text/plain": [
       "<Figure size 1080x720 with 1 Axes>"
      ]
     },
     "metadata": {},
     "output_type": "display_data"
    }
   ],
   "source": [
    "ax = sns.countplot(df_cat.x24, hue=df['y'], order = df_cat.x24.value_counts().index, palette=\"Set2\")\n",
    "_ = ax.set(title='Unique values of x24')"
   ]
  },
  {
   "cell_type": "markdown",
   "metadata": {},
   "source": [
    "<center>**Figure 4:** Frequency Plot for the Categorical Attribute (x24) by Response Variable </center>"
   ]
  },
  {
   "cell_type": "markdown",
   "metadata": {},
   "source": [
    "As noted from Figure 2, roughly 40% of the rows have a response variable equaling true and roughly 60% have a response variable equaling false. The frequency distribution of Asia and Europe look to roughly follow the distribution of the overall response variable, but America looks to have more values equal false than expected."
   ]
  },
  {
   "cell_type": "markdown",
   "metadata": {},
   "source": [
    "Next, we examine *x29*, which represents month, same as our previous hypothesis. There are twelve unique values, one representing each month. Of note, we assume that \"Dev\" is a typo and meant to represent December."
   ]
  },
  {
   "cell_type": "code",
   "execution_count": 22,
   "metadata": {
    "collapsed": false
   },
   "outputs": [
    {
     "data": {
      "image/png": "[encoded data removed]",
      "text/plain": [
       "<Figure size 1080x720 with 1 Axes>"
      ]
     },
     "metadata": {},
     "output_type": "display_data"
    }
   ],
   "source": [
    "ax = sns.countplot(df_cat.x29, order = df_cat.x29.value_counts().index)\n",
    "_ = ax.set(title='Unique values of x29')"
   ]
  },
  {
   "cell_type": "markdown",
   "metadata": {},
   "source": [
    "<center>**Figure 5:** Frequency Plot for the Categorical Attribute, x29 </center>"
   ]
  },
  {
   "cell_type": "markdown",
   "metadata": {},
   "source": [
    "The majority of values of *x29* are equal to July, with a frequency of 45,569 representing 28.49% of all values. Closely behind is June with a frequency of 41,239 followed by August with a frequency of 29,406. We note that these all summer months, and represent 72.65% of all values.\n",
    "\n",
    "The next two months with the highest frequencies are May (21,939 instances) and September (10,819) instances, the months right before and right after the summer months. All other months have significantly less instances with the winter months having a negligible number of occurrences. 30 rows are missing this value."
   ]
  },
  {
   "cell_type": "code",
   "execution_count": 23,
   "metadata": {
    "collapsed": false
   },
   "outputs": [
    {
     "data": {
      "image/png": "[encoded data removed]",
      "text/plain": [
       "<Figure size 1080x720 with 1 Axes>"
      ]
     },
     "metadata": {},
     "output_type": "display_data"
    }
   ],
   "source": [
    "ax = sns.countplot(df_cat.x29, hue=df['y'], order = df_cat.x29.value_counts().index, palette=\"Set2\")\n",
    "_ = ax.set(title='Unique values of x29')"
   ]
  },
  {
   "cell_type": "markdown",
   "metadata": {},
   "source": [
    "<center>**Figure 6:** Frequency Plot for the Categorical Attribute (x29) by Response Variable </center>"
   ]
  },
  {
   "cell_type": "markdown",
   "metadata": {},
   "source": [
    "The summer months all have the 40/60, true/false distribution that the overall dataset has. All other months of a non- negligible size appear to follow the same frequency distribution as well."
   ]
  },
  {
   "cell_type": "markdown",
   "metadata": {},
   "source": [
    "Finally, we examine *x30*, which represents weekdays, similar to previous hypothesis of day of the week. The dataset only including only business days show further evidence that this is a business-related dataset. There are five unique values, one representing each business day. Of note, we assume that \"thurday\" is a typo and meant to represent Thursday."
   ]
  },
  {
   "cell_type": "code",
   "execution_count": 24,
   "metadata": {
    "collapsed": false
   },
   "outputs": [
    {
     "data": {
      "image/png": "[encoded data removed]",
      "text/plain": [
       "<Figure size 1080x720 with 1 Axes>"
      ]
     },
     "metadata": {},
     "output_type": "display_data"
    }
   ],
   "source": [
    "ax = sns.countplot(df_cat.x30, order = df_cat.x30.value_counts().index)\n",
    "_ = ax.set(title='Unique values of x30')"
   ]
  },
  {
   "cell_type": "markdown",
   "metadata": {},
   "source": [
    "<center>**Figure 7:** Frequency Plot for the Categorical Attribute, x30 </center>"
   ]
  },
  {
   "cell_type": "markdown",
   "metadata": {},
   "source": [
    "The majority of values of *x30* are equal to Wednesday, with a frequency of 101,535 representing 63.47% of all values. The next two highest frequencies are Thursday and Tuesday, which are close to equivalent in value at 29,249 and 27,954 respectively; it should be noted that these are the days directly before and after Wednesday. Both Friday and Monday have a negligible number of occurrences, representing a combined of less than 1% of all rows. 30 rows are missing this value."
   ]
  },
  {
   "cell_type": "code",
   "execution_count": 25,
   "metadata": {
    "collapsed": false
   },
   "outputs": [
    {
     "data": {
      "image/png": "[encoded data removed]",
      "text/plain": [
       "<Figure size 1080x720 with 1 Axes>"
      ]
     },
     "metadata": {},
     "output_type": "display_data"
    }
   ],
   "source": [
    "ax = sns.countplot(df_cat.x30, hue=df['y'], order = df_cat.x30.value_counts().index, palette=\"Set2\")\n",
    "_ = ax.set(title='Unique values of x30')"
   ]
  },
  {
   "cell_type": "markdown",
   "metadata": {},
   "source": [
    "<center>**Figure 8:** Frequency Plot for the Categorical Attribute (x30) by Response Variable </center>"
   ]
  },
  {
   "cell_type": "markdown",
   "metadata": {},
   "source": [
    "Wednesday, Thursday, and Tuesday all have the 40/60, true/false distribution that the overall dataset has."
   ]
  },
  {
   "cell_type": "markdown",
   "metadata": {},
   "source": [
    "#### Missing Values"
   ]
  },
  {
   "cell_type": "markdown",
   "metadata": {},
   "source": [
    "Next we examine the missing values in the dataset to determine the best way to impute the data. For the categorical variables, we create indicator variables which will make instances of missing variables all 0's for that attribute. There are so few instances of missing variables this will have a negligible impact and allow all rows to be useable.\n",
    "\n",
    "For the numeric variables, we further examine the missing values to determine if there is any pattern to the missingness."
   ]
  },
  {
   "cell_type": "code",
   "execution_count": 27,
   "metadata": {
    "collapsed": true
   },
   "outputs": [],
   "source": [
    "X_cat = pd.get_dummies(df_cat)\n",
    "X_num = df_num_y[df_num_y.columns.difference(['y'])]"
   ]
  },
  {
   "cell_type": "code",
   "execution_count": 28,
   "metadata": {
    "collapsed": false
   },
   "outputs": [
    {
     "data": {
      "text/plain": [
       "((160000, 20), (160000, 47))"
      ]
     },
     "execution_count": 28,
     "metadata": {},
     "output_type": "execute_result"
    }
   ],
   "source": [
    "X_cat.shape, X_num.shape"
   ]
  },
  {
   "cell_type": "code",
   "execution_count": 29,
   "metadata": {
    "collapsed": true
   },
   "outputs": [],
   "source": [
    "def print_missing_values_stats(X):\n",
    "    for v in X.columns:\n",
    "        nulls = X[v][X[v].isnull() == True].index.tolist()\n",
    "        nulls.sort()\n",
    "        if len(nulls) > 0:\n",
    "            print(f'{v}: {len(nulls)}, {nulls}')\n",
    "            print('')"
   ]
  },
  {
   "cell_type": "code",
   "execution_count": 30,
   "metadata": {
    "collapsed": true
   },
   "outputs": [],
   "source": [
    "print_missing_values_stats(X_cat)"
   ]
  },
  {
   "cell_type": "code",
   "execution_count": 31,
   "metadata": {
    "collapsed": false
   },
   "outputs": [
    {
     "name": "stdout",
     "output_type": "stream",
     "text": [
      "x0: 26, [1282, 2290, 7491, 15484, 22497, 23192, 28954, 35999, 53729, 72318, 89922, 91019, 94393, 99268, 102350, 106226, 120560, 132472, 135679, 142823, 151123, 155246, 157238, 158239, 159224, 159524]\n",
      "\n",
      "x1: 25, [269, 3904, 18170, 40299, 43772, 46051, 54302, 63871, 73401, 76946, 79935, 91884, 92187, 97060, 106076, 106931, 111839, 118680, 119489, 126167, 128371, 143211, 152513, 156865, 157417]\n",
      "\n",
      "x10: 43, [2315, 7132, 8935, 11853, 13971, 15352, 16457, 20326, 24956, 28246, 32662, 39921, 41706, 48193, 58548, 64630, 66039, 66104, 67043, 67246, 78042, 80997, 81139, 83274, 83769, 99401, 99462, 104870, 105517, 106869, 109587, 110821, 111472, 117559, 119661, 123244, 127475, 129078, 132336, 137295, 138166, 148115, 152281]\n",
      "\n",
      "x11: 30, [721, 6506, 8563, 22104, 24255, 26625, 26676, 37927, 44715, 50656, 59892, 63877, 65043, 66501, 69326, 76311, 86759, 98088, 119189, 120452, 125420, 125704, 125976, 129243, 132593, 136175, 140064, 148790, 152207, 155157]\n",
      "\n",
      "x12: 36, [1393, 2074, 12333, 14070, 17783, 22563, 23172, 32983, 33608, 36335, 36649, 42585, 46356, 48167, 50368, 55451, 58277, 60065, 62055, 66235, 67386, 72260, 73723, 79723, 80767, 88377, 91398, 98543, 107139, 123220, 124557, 125502, 130793, 133710, 138249, 147545]\n",
      "\n",
      "x13: 31, [829, 1488, 2274, 15560, 23433, 23823, 26904, 32367, 32922, 36855, 38069, 42227, 56361, 77383, 78114, 78282, 88502, 89864, 97926, 109470, 113394, 120077, 121743, 123037, 126144, 126722, 147527, 154578, 155252, 155792, 159321]\n",
      "\n",
      "x14: 34, [5801, 8943, 9592, 12291, 18653, 20221, 29131, 38393, 42483, 60992, 68804, 78890, 80662, 80960, 81097, 82265, 85909, 86774, 88935, 89230, 89268, 92893, 93381, 94814, 106125, 108708, 127550, 139886, 145495, 146052, 146088, 148104, 155281, 159834]\n",
      "\n",
      "x15: 35, [2992, 7566, 10058, 16121, 20001, 21820, 23419, 27909, 30231, 34410, 34424, 47194, 49051, 54152, 55408, 61003, 72557, 78803, 87140, 91890, 92242, 96769, 99856, 107039, 107040, 111759, 111931, 115757, 120733, 127990, 145368, 151296, 151431, 155690, 156942]\n",
      "\n",
      "x16: 26, [1461, 14149, 16477, 16543, 28096, 29432, 35980, 36866, 45891, 55057, 57402, 61526, 70192, 84247, 86089, 97180, 101336, 101367, 101431, 106266, 121841, 133256, 135320, 138611, 146715, 150983]\n",
      "\n",
      "x17: 27, [4875, 10431, 19173, 37443, 46005, 50022, 50871, 66812, 70213, 72319, 79659, 81844, 86881, 92088, 92220, 94130, 110263, 115906, 123285, 128541, 129492, 141561, 145541, 147798, 152498, 152644, 157325]\n",
      "\n",
      "x18: 40, [9776, 11154, 15821, 23828, 26812, 27592, 28607, 35492, 41020, 41960, 45462, 53990, 57442, 59112, 60885, 62336, 63667, 64424, 69339, 73605, 77483, 79018, 83211, 95190, 100681, 102768, 110782, 112425, 119111, 119794, 128886, 129971, 131994, 134150, 146414, 147757, 148131, 149123, 156113, 156269]\n",
      "\n",
      "x19: 35, [2207, 9369, 13241, 14906, 15419, 18886, 26709, 44393, 51558, 58743, 66180, 69259, 72490, 79258, 81186, 84593, 84903, 87091, 87595, 96089, 101282, 104493, 106986, 116377, 123987, 128502, 132167, 132302, 139517, 139798, 140407, 142698, 143022, 148756, 151032]\n",
      "\n",
      "x2: 38, [2524, 7138, 16032, 17062, 17148, 17641, 18440, 20228, 27683, 27959, 32870, 33648, 35077, 40394, 50604, 52640, 57254, 57369, 59119, 62709, 63383, 78075, 82015, 83543, 86861, 88464, 101372, 101568, 104777, 116080, 117351, 123214, 128539, 136189, 139289, 153417, 155054, 155388]\n",
      "\n",
      "x20: 38, [860, 2108, 10573, 12963, 14961, 27331, 32651, 36708, 38566, 38768, 39302, 44337, 45091, 45826, 58859, 60547, 70475, 74201, 76504, 77544, 79275, 79812, 81351, 87040, 88168, 92807, 95360, 104130, 108124, 124083, 124423, 125498, 129683, 135836, 136154, 138944, 140523, 149060]\n",
      "\n",
      "x21: 29, [5149, 11550, 12172, 13036, 36250, 50784, 54085, 58561, 63432, 67694, 76566, 85780, 90515, 97392, 97950, 101523, 101874, 104515, 111133, 112637, 115722, 119035, 125470, 133879, 136139, 140374, 145501, 146392, 155763]\n",
      "\n",
      "x22: 27, [3416, 5587, 5814, 12728, 16092, 27524, 27748, 35082, 37288, 37499, 42857, 48738, 53626, 59342, 59489, 61120, 77801, 86028, 93753, 105595, 116405, 122903, 128806, 131513, 151017, 151200, 154989]\n",
      "\n",
      "x23: 47, [278, 6819, 7799, 10174, 10556, 13356, 14839, 16791, 18267, 21007, 28727, 31963, 33445, 34817, 35327, 36422, 38323, 39712, 40618, 48316, 53080, 55121, 63847, 69829, 88245, 88714, 88807, 89714, 90448, 95261, 95778, 97690, 102402, 103546, 109474, 110118, 110168, 111479, 126534, 127774, 128463, 131670, 137981, 145202, 147313, 156046, 157602]\n",
      "\n",
      "x25: 22, [4420, 11485, 12718, 16021, 33294, 33311, 34286, 36782, 36833, 41497, 43755, 48910, 62789, 79327, 79703, 103897, 106611, 133558, 133780, 136610, 153094, 158137]\n",
      "\n",
      "x26: 36, [1504, 12350, 12670, 31058, 33444, 39734, 43578, 45326, 48065, 53661, 57592, 57749, 62761, 63668, 69919, 72893, 78735, 84153, 87521, 88117, 90835, 94268, 100831, 109270, 109522, 122753, 122879, 126477, 128186, 129540, 135629, 142614, 143594, 154775, 155426, 157105]\n",
      "\n",
      "x27: 30, [1631, 6161, 6783, 19499, 22633, 23604, 25902, 27532, 36684, 43059, 43818, 49585, 62007, 64458, 65301, 79615, 89401, 95579, 98220, 108101, 108631, 112599, 116860, 122068, 132594, 133341, 134751, 135572, 145355, 146266]\n",
      "\n",
      "x28: 35, [11772, 13572, 13915, 15490, 18684, 24801, 27147, 30392, 32839, 37399, 54044, 60959, 71135, 73824, 80592, 83227, 83544, 85266, 88574, 95643, 97035, 101825, 103169, 104348, 106132, 113050, 114314, 114465, 115849, 118184, 121213, 145893, 152647, 152715, 159533]\n",
      "\n",
      "x3: 37, [1915, 6601, 9826, 10834, 19377, 20312, 22997, 27191, 31962, 39640, 41322, 43215, 43262, 43778, 50217, 67362, 72150, 72800, 78537, 79155, 87910, 88941, 105051, 112588, 115585, 121126, 123428, 136869, 138962, 147037, 149073, 151926, 152732, 156561, 157827, 159475, 159830]\n",
      "\n",
      "x31: 39, [6839, 11077, 11937, 14138, 18308, 30465, 34002, 35909, 38964, 42340, 44927, 45579, 53783, 55182, 60025, 74966, 81592, 82431, 82450, 85011, 100395, 102392, 107695, 118947, 119855, 124158, 125623, 129283, 135216, 139256, 141680, 143454, 143725, 145058, 148512, 151179, 156849, 157287, 159511]\n",
      "\n",
      "x32: 31, [544, 13156, 15663, 19101, 28860, 31436, 40829, 52420, 59970, 61578, 62073, 65967, 70206, 70749, 73468, 73510, 75161, 86460, 91512, 101117, 103767, 106389, 109491, 120840, 123455, 123658, 130041, 134803, 140865, 141548, 159103]\n",
      "\n",
      "x33: 41, [2802, 3615, 13182, 17075, 25731, 31456, 32522, 34510, 34939, 38908, 47141, 50571, 54504, 58333, 60761, 66459, 72331, 74156, 75226, 83164, 88931, 89269, 94642, 98487, 109721, 117473, 118119, 121027, 121106, 121233, 125209, 130998, 134036, 135512, 140871, 141552, 144858, 145429, 146774, 155463, 156361]\n",
      "\n",
      "x34: 41, [6129, 12691, 13903, 37565, 40176, 41645, 45358, 45813, 52066, 57062, 64241, 64459, 68479, 69310, 73177, 78429, 79355, 80146, 80198, 81931, 88041, 89989, 95530, 99781, 104443, 104512, 112967, 116171, 116857, 125745, 128163, 129747, 130908, 132645, 132657, 135464, 136510, 136556, 142625, 150362, 157419]\n",
      "\n",
      "x35: 30, [335, 10938, 11563, 12922, 13551, 24689, 25259, 30404, 37005, 38819, 42331, 48238, 58792, 59043, 67130, 71824, 72648, 85227, 88094, 88214, 92548, 93469, 99148, 113832, 123454, 127500, 128969, 133922, 134920, 143225]\n",
      "\n",
      "x36: 27, [4443, 4936, 16986, 18056, 21657, 23336, 30753, 42392, 43442, 53373, 56110, 56115, 56869, 67451, 70334, 71190, 77425, 81452, 88654, 92441, 98540, 101079, 120142, 120582, 133140, 138183, 143789]\n",
      "\n",
      "x37: 23, [185, 3981, 14339, 38686, 48684, 49644, 54591, 56410, 57687, 64015, 68439, 76760, 78969, 79058, 79072, 79518, 84494, 91192, 92156, 110480, 112005, 135182, 142371]\n",
      "\n",
      "x38: 31, [3961, 6588, 6652, 22592, 28274, 39895, 42369, 42891, 44843, 48794, 49769, 52012, 63472, 65033, 67463, 68035, 70337, 72477, 82340, 85246, 87461, 89139, 100685, 105951, 116264, 122638, 123909, 127910, 147220, 153213, 153377]\n",
      "\n",
      "x39: 23, [151, 5914, 12708, 22718, 37008, 55047, 63802, 64461, 73800, 76711, 86241, 89726, 91026, 103028, 104456, 109362, 124849, 127939, 136797, 138468, 143045, 143121, 145381]\n",
      "\n",
      "x4: 26, [6956, 8666, 9535, 14893, 15482, 21852, 29504, 31575, 32955, 60368, 62046, 66287, 72593, 87291, 99233, 99832, 109689, 113074, 117607, 120258, 120623, 130243, 135377, 137403, 143735, 158120]\n",
      "\n",
      "x40: 36, [4267, 10199, 14969, 18768, 22457, 23903, 35161, 36863, 40488, 51470, 55884, 58409, 68532, 69711, 75398, 76670, 80210, 86359, 92286, 94162, 94235, 103038, 107308, 112594, 113935, 120207, 123268, 128145, 130600, 133708, 133946, 140362, 144510, 145553, 150510, 153985]\n",
      "\n",
      "x41: 40, [6314, 9536, 16560, 19284, 23132, 34349, 36629, 49185, 52544, 53474, 56828, 57204, 58141, 64950, 65486, 68821, 69693, 72607, 77716, 78982, 84461, 84492, 92646, 93042, 101257, 101387, 108243, 110211, 124963, 128360, 133458, 136974, 143694, 144085, 147398, 147766, 153362, 153432, 154427, 158400]\n",
      "\n",
      "x42: 26, [2494, 4228, 4772, 23255, 26607, 32642, 40927, 43380, 49524, 51425, 76903, 91217, 92487, 94308, 101345, 101763, 115814, 119873, 127762, 129706, 129950, 138745, 151207, 154062, 156135, 156369]\n",
      "\n",
      "x43: 37, [29, 3524, 4970, 5684, 13028, 20368, 24509, 27516, 31096, 31734, 35466, 40327, 40796, 41518, 43500, 45530, 47715, 47921, 49640, 63488, 63803, 73689, 75765, 77761, 84538, 88681, 90329, 97010, 99623, 106142, 119769, 140737, 143009, 145496, 151591, 156045, 157527]\n",
      "\n",
      "x44: 40, [3002, 3153, 7744, 13533, 15542, 21866, 22397, 25457, 31983, 34119, 34766, 37640, 41946, 42096, 42343, 53432, 59445, 63630, 64151, 69053, 70888, 75353, 79686, 81378, 97845, 113044, 118507, 121580, 122394, 130086, 136018, 140442, 141118, 143017, 146192, 148630, 150572, 153447, 156720, 159374]\n",
      "\n",
      "x45: 29, [152, 7009, 10601, 17400, 18272, 18658, 23031, 30350, 39519, 51766, 54180, 62196, 64136, 70618, 74579, 91844, 94108, 110236, 113488, 115816, 118780, 123889, 124268, 130643, 135598, 137478, 151606, 153878, 155512]\n",
      "\n",
      "x46: 31, [5986, 15394, 17276, 17463, 21677, 22519, 25655, 27282, 30730, 45264, 51003, 68146, 70134, 75479, 79838, 80685, 81049, 81731, 87176, 90108, 93637, 106812, 115968, 119302, 123188, 125646, 132187, 142066, 151513, 154570, 158486]\n",
      "\n",
      "x47: 37, [3739, 6941, 7859, 11606, 12729, 15791, 18711, 28961, 29417, 30472, 32702, 35692, 43748, 50616, 54001, 54701, 55913, 61273, 62673, 68271, 74060, 76794, 82796, 83187, 83495, 89699, 98480, 98666, 100788, 101159, 110946, 122487, 129830, 131082, 141359, 144463, 149808]\n",
      "\n",
      "x48: 32, [27313, 31049, 41838, 45142, 47606, 50266, 50511, 55186, 61932, 71892, 73251, 74962, 77976, 78381, 81562, 84529, 90297, 92256, 95370, 98842, 100883, 102685, 103703, 105165, 121703, 125947, 134620, 146390, 151866, 155334, 155940, 159785]\n",
      "\n",
      "x49: 32, [3504, 11513, 15652, 25357, 38310, 41711, 45062, 50655, 51528, 53598, 81863, 82788, 95837, 97007, 100910, 104207, 104998, 106635, 107260, 117108, 122519, 123499, 124061, 134207, 136518, 139799, 140146, 142472, 143754, 145154, 145866, 153252]\n",
      "\n",
      "x5: 37, [4395, 9825, 20869, 22027, 31222, 36879, 39806, 53541, 56519, 59824, 63040, 65736, 68001, 68552, 69871, 72759, 73322, 76663, 78768, 79130, 79957, 85579, 89203, 104427, 106452, 107487, 114312, 118722, 121267, 122527, 128311, 133413, 140829, 146547, 157095, 157264, 158277]\n",
      "\n",
      "x6: 26, [11392, 13613, 18494, 18522, 32999, 33860, 35660, 36355, 36872, 49312, 54331, 54590, 80772, 87098, 93541, 99452, 113268, 114659, 126399, 129319, 130411, 130645, 145548, 148616, 150775, 159014]\n",
      "\n",
      "x7: 27, [48, 2467, 6172, 10206, 11677, 13716, 25873, 28028, 31866, 40731, 43670, 55400, 56037, 63788, 64243, 78500, 82440, 87258, 93748, 106357, 108730, 113741, 115064, 115750, 116276, 119916, 152897]\n",
      "\n",
      "x8: 21, [2066, 12238, 13558, 14079, 19048, 19803, 25936, 41216, 44817, 44992, 62803, 70818, 73204, 76968, 93066, 93477, 94523, 97822, 101221, 115890, 157991]\n",
      "\n",
      "x9: 30, [6015, 22252, 31459, 35865, 37777, 39047, 51360, 62568, 64412, 67659, 69570, 69582, 71001, 75883, 76074, 78531, 83688, 86952, 95350, 99874, 101076, 103787, 105549, 112556, 113355, 118333, 128953, 132304, 155272, 156576]\n",
      "\n"
     ]
    }
   ],
   "source": [
    "print_missing_values_stats(X_num)"
   ]
  },
  {
   "cell_type": "markdown",
   "metadata": {},
   "source": [
    "All missing values appear to be missing at random both within the data rows and among the data attributes and as previously mentioned, the number of missing value is very small for all attributes. Thus, it is safe to use mean imputation, where the missing values are replaced with the mean of the non-missing values of that attribute."
   ]
  },
  {
   "cell_type": "code",
   "execution_count": 32,
   "metadata": {
    "collapsed": true
   },
   "outputs": [],
   "source": [
    "num_imputer = SimpleImputer(missing_values=np.nan, strategy='mean')"
   ]
  },
  {
   "cell_type": "code",
   "execution_count": 33,
   "metadata": {
    "collapsed": false
   },
   "outputs": [
    {
     "data": {
      "text/plain": [
       "SimpleImputer(add_indicator=False, copy=True, fill_value=None,\n",
       "              missing_values=nan, strategy='mean', verbose=0)"
      ]
     },
     "execution_count": 33,
     "metadata": {},
     "output_type": "execute_result"
    }
   ],
   "source": [
    "num_imputer.fit(X_num)"
   ]
  },
  {
   "cell_type": "code",
   "execution_count": 34,
   "metadata": {
    "collapsed": true
   },
   "outputs": [],
   "source": [
    "X_num = pd.DataFrame(num_imputer.transform(X_num), columns=X_num.columns)"
   ]
  },
  {
   "cell_type": "code",
   "execution_count": 35,
   "metadata": {
    "collapsed": true
   },
   "outputs": [],
   "source": [
    "print_missing_values_stats(X_num)"
   ]
  },
  {
   "cell_type": "markdown",
   "metadata": {},
   "source": [
    "The print statement above confirms that the imputation worked and there are no more missing values."
   ]
  },
  {
   "cell_type": "markdown",
   "metadata": {},
   "source": [
    "#### Data Normalization"
   ]
  },
  {
   "cell_type": "markdown",
   "metadata": {},
   "source": [
    "Finally, before we begin model building, the numeric data is normalized to diminish the effect of the larger spreads we denoted earlier when examining summary statistics. We do this using standardizing these attributes to have a mean of 0 and a standard deviation of 1."
   ]
  },
  {
   "cell_type": "code",
   "execution_count": 36,
   "metadata": {
    "collapsed": true
   },
   "outputs": [],
   "source": [
    "scaler = StandardScaler()\n",
    "scaler.fit(X_num)\n",
    "X_num = pd.DataFrame(scaler.transform(X_num), columns=X_num.columns)"
   ]
  },
  {
   "cell_type": "code",
   "execution_count": 37,
   "metadata": {
    "collapsed": false
   },
   "outputs": [
    {
     "data": {
      "text/plain": [
       "((160000, 67), (160000,))"
      ]
     },
     "execution_count": 37,
     "metadata": {},
     "output_type": "execute_result"
    }
   ],
   "source": [
    "X = pd.concat([pd.get_dummies(X_cat), X_num], axis=1)\n",
    "y = df['y'].astype(np.int)\n",
    "X.shape, y.shape"
   ]
  },
  {
   "cell_type": "code",
   "execution_count": 38,
   "metadata": {
    "collapsed": false
   },
   "outputs": [
    {
     "data": {
      "text/html": [
       "<div>\n",
       "<style scoped>\n",
       "    .dataframe tbody tr th:only-of-type {\n",
       "        vertical-align: middle;\n",
       "    }\n",
       "\n",
       "    .dataframe tbody tr th {\n",
       "        vertical-align: top;\n",
       "    }\n",
       "\n",
       "    .dataframe thead th {\n",
       "        text-align: right;\n",
       "    }\n",
       "</style>\n",
       "<table border=\"1\" class=\"dataframe\">\n",
       "  <thead>\n",
       "    <tr style=\"text-align: right;\">\n",
       "      <th></th>\n",
       "      <th>x24_america</th>\n",
       "      <th>x24_asia</th>\n",
       "      <th>x24_euorpe</th>\n",
       "      <th>x29_Apr</th>\n",
       "      <th>x29_Aug</th>\n",
       "      <th>x29_Dev</th>\n",
       "      <th>x29_Feb</th>\n",
       "      <th>x29_January</th>\n",
       "      <th>x29_July</th>\n",
       "      <th>x29_Jun</th>\n",
       "      <th>x29_Mar</th>\n",
       "      <th>x29_May</th>\n",
       "      <th>x29_Nov</th>\n",
       "      <th>x29_Oct</th>\n",
       "      <th>x29_sept.</th>\n",
       "      <th>x30_friday</th>\n",
       "      <th>x30_monday</th>\n",
       "      <th>x30_thurday</th>\n",
       "      <th>x30_tuesday</th>\n",
       "      <th>x30_wednesday</th>\n",
       "      <th>x0</th>\n",
       "      <th>x1</th>\n",
       "      <th>x10</th>\n",
       "      <th>x11</th>\n",
       "      <th>x12</th>\n",
       "      <th>x13</th>\n",
       "      <th>x14</th>\n",
       "      <th>x15</th>\n",
       "      <th>x16</th>\n",
       "      <th>x17</th>\n",
       "      <th>x18</th>\n",
       "      <th>x19</th>\n",
       "      <th>x2</th>\n",
       "      <th>x20</th>\n",
       "      <th>x21</th>\n",
       "      <th>x22</th>\n",
       "      <th>x23</th>\n",
       "      <th>x25</th>\n",
       "      <th>x26</th>\n",
       "      <th>x27</th>\n",
       "      <th>x28</th>\n",
       "      <th>x3</th>\n",
       "      <th>x31</th>\n",
       "      <th>x32</th>\n",
       "      <th>x33</th>\n",
       "      <th>x34</th>\n",
       "      <th>x35</th>\n",
       "      <th>x36</th>\n",
       "      <th>x37</th>\n",
       "      <th>x38</th>\n",
       "      <th>x39</th>\n",
       "      <th>x4</th>\n",
       "      <th>x40</th>\n",
       "      <th>x41</th>\n",
       "      <th>x42</th>\n",
       "      <th>x43</th>\n",
       "      <th>x44</th>\n",
       "      <th>x45</th>\n",
       "      <th>x46</th>\n",
       "      <th>x47</th>\n",
       "      <th>x48</th>\n",
       "      <th>x49</th>\n",
       "      <th>x5</th>\n",
       "      <th>x6</th>\n",
       "      <th>x7</th>\n",
       "      <th>x8</th>\n",
       "      <th>x9</th>\n",
       "    </tr>\n",
       "  </thead>\n",
       "  <tbody>\n",
       "    <tr>\n",
       "      <td>count</td>\n",
       "      <td>160000.000000</td>\n",
       "      <td>160000.000000</td>\n",
       "      <td>160000.000000</td>\n",
       "      <td>160000.000000</td>\n",
       "      <td>160000.000000</td>\n",
       "      <td>160000.000000</td>\n",
       "      <td>160000.000000</td>\n",
       "      <td>160000.000000</td>\n",
       "      <td>160000.000000</td>\n",
       "      <td>160000.000000</td>\n",
       "      <td>160000.000000</td>\n",
       "      <td>160000.000000</td>\n",
       "      <td>160000.000000</td>\n",
       "      <td>160000.000000</td>\n",
       "      <td>160000.000000</td>\n",
       "      <td>160000.000000</td>\n",
       "      <td>160000.000000</td>\n",
       "      <td>160000.000000</td>\n",
       "      <td>160000.000000</td>\n",
       "      <td>160000.000000</td>\n",
       "      <td>1.600000e+05</td>\n",
       "      <td>1.600000e+05</td>\n",
       "      <td>1.600000e+05</td>\n",
       "      <td>1.600000e+05</td>\n",
       "      <td>1.600000e+05</td>\n",
       "      <td>1.600000e+05</td>\n",
       "      <td>1.600000e+05</td>\n",
       "      <td>1.600000e+05</td>\n",
       "      <td>1.600000e+05</td>\n",
       "      <td>1.600000e+05</td>\n",
       "      <td>1.600000e+05</td>\n",
       "      <td>1.600000e+05</td>\n",
       "      <td>1.600000e+05</td>\n",
       "      <td>1.600000e+05</td>\n",
       "      <td>1.600000e+05</td>\n",
       "      <td>1.600000e+05</td>\n",
       "      <td>1.600000e+05</td>\n",
       "      <td>1.600000e+05</td>\n",
       "      <td>1.600000e+05</td>\n",
       "      <td>1.600000e+05</td>\n",
       "      <td>1.600000e+05</td>\n",
       "      <td>1.600000e+05</td>\n",
       "      <td>1.600000e+05</td>\n",
       "      <td>1.600000e+05</td>\n",
       "      <td>1.600000e+05</td>\n",
       "      <td>1.600000e+05</td>\n",
       "      <td>1.600000e+05</td>\n",
       "      <td>1.600000e+05</td>\n",
       "      <td>1.600000e+05</td>\n",
       "      <td>1.600000e+05</td>\n",
       "      <td>1.600000e+05</td>\n",
       "      <td>1.600000e+05</td>\n",
       "      <td>1.600000e+05</td>\n",
       "      <td>1.600000e+05</td>\n",
       "      <td>1.600000e+05</td>\n",
       "      <td>1.600000e+05</td>\n",
       "      <td>1.600000e+05</td>\n",
       "      <td>1.600000e+05</td>\n",
       "      <td>1.600000e+05</td>\n",
       "      <td>1.600000e+05</td>\n",
       "      <td>1.600000e+05</td>\n",
       "      <td>1.600000e+05</td>\n",
       "      <td>1.600000e+05</td>\n",
       "      <td>1.600000e+05</td>\n",
       "      <td>1.600000e+05</td>\n",
       "      <td>1.600000e+05</td>\n",
       "      <td>1.600000e+05</td>\n",
       "    </tr>\n",
       "    <tr>\n",
       "      <td>mean</td>\n",
       "      <td>0.027931</td>\n",
       "      <td>0.868531</td>\n",
       "      <td>0.103362</td>\n",
       "      <td>0.042256</td>\n",
       "      <td>0.183787</td>\n",
       "      <td>0.000144</td>\n",
       "      <td>0.000875</td>\n",
       "      <td>0.000056</td>\n",
       "      <td>0.284806</td>\n",
       "      <td>0.258306</td>\n",
       "      <td>0.007694</td>\n",
       "      <td>0.137119</td>\n",
       "      <td>0.002106</td>\n",
       "      <td>0.015044</td>\n",
       "      <td>0.067619</td>\n",
       "      <td>0.003525</td>\n",
       "      <td>0.003050</td>\n",
       "      <td>0.183931</td>\n",
       "      <td>0.174712</td>\n",
       "      <td>0.634594</td>\n",
       "      <td>-1.804598e-17</td>\n",
       "      <td>1.102035e-17</td>\n",
       "      <td>4.756820e-17</td>\n",
       "      <td>-3.927414e-19</td>\n",
       "      <td>-1.559239e-17</td>\n",
       "      <td>7.489842e-18</td>\n",
       "      <td>9.399079e-18</td>\n",
       "      <td>4.391452e-17</td>\n",
       "      <td>4.215170e-17</td>\n",
       "      <td>2.367169e-17</td>\n",
       "      <td>1.360440e-17</td>\n",
       "      <td>2.464695e-17</td>\n",
       "      <td>-3.920059e-17</td>\n",
       "      <td>7.122081e-18</td>\n",
       "      <td>2.920511e-17</td>\n",
       "      <td>-7.996034e-18</td>\n",
       "      <td>5.918877e-19</td>\n",
       "      <td>1.280955e-17</td>\n",
       "      <td>4.336880e-17</td>\n",
       "      <td>-2.148282e-18</td>\n",
       "      <td>4.838872e-17</td>\n",
       "      <td>-4.632753e-18</td>\n",
       "      <td>-1.924017e-17</td>\n",
       "      <td>-6.900256e-16</td>\n",
       "      <td>-4.476280e-18</td>\n",
       "      <td>3.270856e-17</td>\n",
       "      <td>2.533251e-17</td>\n",
       "      <td>2.837938e-17</td>\n",
       "      <td>-1.173367e-17</td>\n",
       "      <td>4.356654e-17</td>\n",
       "      <td>8.763823e-19</td>\n",
       "      <td>2.820313e-17</td>\n",
       "      <td>2.671197e-17</td>\n",
       "      <td>-6.403766e-17</td>\n",
       "      <td>6.213814e-17</td>\n",
       "      <td>-2.494255e-17</td>\n",
       "      <td>-2.629494e-17</td>\n",
       "      <td>1.855738e-17</td>\n",
       "      <td>-3.249900e-17</td>\n",
       "      <td>-1.504803e-17</td>\n",
       "      <td>2.673192e-17</td>\n",
       "      <td>-1.673939e-17</td>\n",
       "      <td>1.347533e-18</td>\n",
       "      <td>3.095996e-17</td>\n",
       "      <td>1.590308e-17</td>\n",
       "      <td>-5.048045e-17</td>\n",
       "      <td>2.331468e-18</td>\n",
       "    </tr>\n",
       "    <tr>\n",
       "      <td>std</td>\n",
       "      <td>0.164776</td>\n",
       "      <td>0.337913</td>\n",
       "      <td>0.304433</td>\n",
       "      <td>0.201174</td>\n",
       "      <td>0.387312</td>\n",
       "      <td>0.011989</td>\n",
       "      <td>0.029568</td>\n",
       "      <td>0.007500</td>\n",
       "      <td>0.451324</td>\n",
       "      <td>0.437705</td>\n",
       "      <td>0.087376</td>\n",
       "      <td>0.343974</td>\n",
       "      <td>0.045846</td>\n",
       "      <td>0.121727</td>\n",
       "      <td>0.251091</td>\n",
       "      <td>0.059267</td>\n",
       "      <td>0.055143</td>\n",
       "      <td>0.387429</td>\n",
       "      <td>0.379722</td>\n",
       "      <td>0.481545</td>\n",
       "      <td>1.000003e+00</td>\n",
       "      <td>1.000003e+00</td>\n",
       "      <td>1.000003e+00</td>\n",
       "      <td>1.000003e+00</td>\n",
       "      <td>1.000003e+00</td>\n",
       "      <td>1.000003e+00</td>\n",
       "      <td>1.000003e+00</td>\n",
       "      <td>1.000003e+00</td>\n",
       "      <td>1.000003e+00</td>\n",
       "      <td>1.000003e+00</td>\n",
       "      <td>1.000003e+00</td>\n",
       "      <td>1.000003e+00</td>\n",
       "      <td>1.000003e+00</td>\n",
       "      <td>1.000003e+00</td>\n",
       "      <td>1.000003e+00</td>\n",
       "      <td>1.000003e+00</td>\n",
       "      <td>1.000003e+00</td>\n",
       "      <td>1.000003e+00</td>\n",
       "      <td>1.000003e+00</td>\n",
       "      <td>1.000003e+00</td>\n",
       "      <td>1.000003e+00</td>\n",
       "      <td>1.000003e+00</td>\n",
       "      <td>1.000003e+00</td>\n",
       "      <td>1.000003e+00</td>\n",
       "      <td>1.000003e+00</td>\n",
       "      <td>1.000003e+00</td>\n",
       "      <td>1.000003e+00</td>\n",
       "      <td>1.000003e+00</td>\n",
       "      <td>1.000003e+00</td>\n",
       "      <td>1.000003e+00</td>\n",
       "      <td>1.000003e+00</td>\n",
       "      <td>1.000003e+00</td>\n",
       "      <td>1.000003e+00</td>\n",
       "      <td>1.000003e+00</td>\n",
       "      <td>1.000003e+00</td>\n",
       "      <td>1.000003e+00</td>\n",
       "      <td>1.000003e+00</td>\n",
       "      <td>1.000003e+00</td>\n",
       "      <td>1.000003e+00</td>\n",
       "      <td>1.000003e+00</td>\n",
       "      <td>1.000003e+00</td>\n",
       "      <td>1.000003e+00</td>\n",
       "      <td>1.000003e+00</td>\n",
       "      <td>1.000003e+00</td>\n",
       "      <td>1.000003e+00</td>\n",
       "      <td>1.000003e+00</td>\n",
       "      <td>1.000003e+00</td>\n",
       "    </tr>\n",
       "    <tr>\n",
       "      <td>min</td>\n",
       "      <td>0.000000</td>\n",
       "      <td>0.000000</td>\n",
       "      <td>0.000000</td>\n",
       "      <td>0.000000</td>\n",
       "      <td>0.000000</td>\n",
       "      <td>0.000000</td>\n",
       "      <td>0.000000</td>\n",
       "      <td>0.000000</td>\n",
       "      <td>0.000000</td>\n",
       "      <td>0.000000</td>\n",
       "      <td>0.000000</td>\n",
       "      <td>0.000000</td>\n",
       "      <td>0.000000</td>\n",
       "      <td>0.000000</td>\n",
       "      <td>0.000000</td>\n",
       "      <td>0.000000</td>\n",
       "      <td>0.000000</td>\n",
       "      <td>0.000000</td>\n",
       "      <td>0.000000</td>\n",
       "      <td>0.000000</td>\n",
       "      <td>-4.288823e+00</td>\n",
       "      <td>-4.144980e+00</td>\n",
       "      <td>-4.613370e+00</td>\n",
       "      <td>-4.347593e+00</td>\n",
       "      <td>-4.262143e+00</td>\n",
       "      <td>-4.326085e+00</td>\n",
       "      <td>-4.439442e+00</td>\n",
       "      <td>-5.197628e+00</td>\n",
       "      <td>-5.226939e+00</td>\n",
       "      <td>-4.546090e+00</td>\n",
       "      <td>-4.451716e+00</td>\n",
       "      <td>-4.695257e+00</td>\n",
       "      <td>-4.388525e+00</td>\n",
       "      <td>-4.646713e+00</td>\n",
       "      <td>-4.620455e+00</td>\n",
       "      <td>-4.370773e+00</td>\n",
       "      <td>-4.518874e+00</td>\n",
       "      <td>-5.036420e+00</td>\n",
       "      <td>-4.573763e+00</td>\n",
       "      <td>-4.724280e+00</td>\n",
       "      <td>-5.051164e+00</td>\n",
       "      <td>-4.396284e+00</td>\n",
       "      <td>-4.438995e+00</td>\n",
       "      <td>-4.807344e+00</td>\n",
       "      <td>-4.260227e+00</td>\n",
       "      <td>-4.507126e+00</td>\n",
       "      <td>-4.206687e+00</td>\n",
       "      <td>-4.314053e+00</td>\n",
       "      <td>-4.735532e+00</td>\n",
       "      <td>-4.757673e+00</td>\n",
       "      <td>-4.305838e+00</td>\n",
       "      <td>-4.460683e+00</td>\n",
       "      <td>-4.209861e+00</td>\n",
       "      <td>-4.757963e+00</td>\n",
       "      <td>-5.107344e+00</td>\n",
       "      <td>-4.478940e+00</td>\n",
       "      <td>-4.317236e+00</td>\n",
       "      <td>-4.423038e+00</td>\n",
       "      <td>-5.165183e+00</td>\n",
       "      <td>-4.410353e+00</td>\n",
       "      <td>-4.386877e+00</td>\n",
       "      <td>-4.330971e+00</td>\n",
       "      <td>-4.412028e+00</td>\n",
       "      <td>-4.388436e+00</td>\n",
       "      <td>-5.691438e+00</td>\n",
       "      <td>-4.231245e+00</td>\n",
       "      <td>-4.404195e+00</td>\n",
       "    </tr>\n",
       "    <tr>\n",
       "      <td>25%</td>\n",
       "      <td>0.000000</td>\n",
       "      <td>1.000000</td>\n",
       "      <td>0.000000</td>\n",
       "      <td>0.000000</td>\n",
       "      <td>0.000000</td>\n",
       "      <td>0.000000</td>\n",
       "      <td>0.000000</td>\n",
       "      <td>0.000000</td>\n",
       "      <td>0.000000</td>\n",
       "      <td>0.000000</td>\n",
       "      <td>0.000000</td>\n",
       "      <td>0.000000</td>\n",
       "      <td>0.000000</td>\n",
       "      <td>0.000000</td>\n",
       "      <td>0.000000</td>\n",
       "      <td>0.000000</td>\n",
       "      <td>0.000000</td>\n",
       "      <td>0.000000</td>\n",
       "      <td>0.000000</td>\n",
       "      <td>0.000000</td>\n",
       "      <td>-6.751329e-01</td>\n",
       "      <td>-6.721856e-01</td>\n",
       "      <td>-6.719363e-01</td>\n",
       "      <td>-6.765313e-01</td>\n",
       "      <td>-6.809411e-01</td>\n",
       "      <td>-6.741970e-01</td>\n",
       "      <td>-6.754508e-01</td>\n",
       "      <td>-6.749847e-01</td>\n",
       "      <td>-6.721727e-01</td>\n",
       "      <td>-6.714865e-01</td>\n",
       "      <td>-6.757742e-01</td>\n",
       "      <td>-6.747490e-01</td>\n",
       "      <td>-6.791493e-01</td>\n",
       "      <td>-6.727350e-01</td>\n",
       "      <td>-6.729051e-01</td>\n",
       "      <td>-6.759157e-01</td>\n",
       "      <td>-6.699712e-01</td>\n",
       "      <td>-6.742094e-01</td>\n",
       "      <td>-6.713980e-01</td>\n",
       "      <td>-6.781389e-01</td>\n",
       "      <td>-6.740897e-01</td>\n",
       "      <td>-6.730525e-01</td>\n",
       "      <td>-6.749447e-01</td>\n",
       "      <td>-9.606319e-01</td>\n",
       "      <td>-6.734678e-01</td>\n",
       "      <td>-6.738405e-01</td>\n",
       "      <td>-6.769888e-01</td>\n",
       "      <td>-6.745661e-01</td>\n",
       "      <td>-6.916398e-01</td>\n",
       "      <td>-6.694039e-01</td>\n",
       "      <td>-6.743215e-01</td>\n",
       "      <td>-6.755947e-01</td>\n",
       "      <td>-6.827753e-01</td>\n",
       "      <td>-6.693774e-01</td>\n",
       "      <td>-6.513248e-01</td>\n",
       "      <td>-6.759260e-01</td>\n",
       "      <td>-6.736191e-01</td>\n",
       "      <td>-6.739953e-01</td>\n",
       "      <td>-6.466453e-01</td>\n",
       "      <td>-6.774574e-01</td>\n",
       "      <td>-6.821912e-01</td>\n",
       "      <td>-6.821356e-01</td>\n",
       "      <td>-6.729231e-01</td>\n",
       "      <td>-6.792036e-01</td>\n",
       "      <td>-6.426278e-01</td>\n",
       "      <td>-6.740778e-01</td>\n",
       "      <td>-6.712440e-01</td>\n",
       "    </tr>\n",
       "    <tr>\n",
       "      <td>50%</td>\n",
       "      <td>0.000000</td>\n",
       "      <td>1.000000</td>\n",
       "      <td>0.000000</td>\n",
       "      <td>0.000000</td>\n",
       "      <td>0.000000</td>\n",
       "      <td>0.000000</td>\n",
       "      <td>0.000000</td>\n",
       "      <td>0.000000</td>\n",
       "      <td>0.000000</td>\n",
       "      <td>0.000000</td>\n",
       "      <td>0.000000</td>\n",
       "      <td>0.000000</td>\n",
       "      <td>0.000000</td>\n",
       "      <td>0.000000</td>\n",
       "      <td>0.000000</td>\n",
       "      <td>0.000000</td>\n",
       "      <td>0.000000</td>\n",
       "      <td>0.000000</td>\n",
       "      <td>0.000000</td>\n",
       "      <td>1.000000</td>\n",
       "      <td>-2.564251e-03</td>\n",
       "      <td>4.255499e-04</td>\n",
       "      <td>-2.218567e-03</td>\n",
       "      <td>-1.971385e-03</td>\n",
       "      <td>-1.943916e-02</td>\n",
       "      <td>-1.102750e-03</td>\n",
       "      <td>-5.489911e-04</td>\n",
       "      <td>5.299902e-04</td>\n",
       "      <td>1.003642e-03</td>\n",
       "      <td>1.449170e-03</td>\n",
       "      <td>3.582753e-04</td>\n",
       "      <td>2.361230e-03</td>\n",
       "      <td>-1.404452e-02</td>\n",
       "      <td>2.284992e-02</td>\n",
       "      <td>1.622344e-04</td>\n",
       "      <td>2.268357e-04</td>\n",
       "      <td>2.014567e-02</td>\n",
       "      <td>-2.144017e-03</td>\n",
       "      <td>-2.063745e-04</td>\n",
       "      <td>5.845370e-03</td>\n",
       "      <td>1.453129e-02</td>\n",
       "      <td>-4.649149e-04</td>\n",
       "      <td>2.588918e-03</td>\n",
       "      <td>1.046027e-03</td>\n",
       "      <td>1.489005e-18</td>\n",
       "      <td>-1.364203e-03</td>\n",
       "      <td>-1.178031e-03</td>\n",
       "      <td>-1.520119e-03</td>\n",
       "      <td>-1.388443e-02</td>\n",
       "      <td>7.188224e-03</td>\n",
       "      <td>2.678216e-03</td>\n",
       "      <td>6.952628e-05</td>\n",
       "      <td>-2.239638e-02</td>\n",
       "      <td>7.174212e-03</td>\n",
       "      <td>-1.747209e-02</td>\n",
       "      <td>-1.306216e-03</td>\n",
       "      <td>-6.854330e-04</td>\n",
       "      <td>1.657899e-03</td>\n",
       "      <td>-5.963147e-03</td>\n",
       "      <td>1.276095e-03</td>\n",
       "      <td>-5.684651e-03</td>\n",
       "      <td>6.400782e-03</td>\n",
       "      <td>9.047783e-19</td>\n",
       "      <td>-1.415552e-02</td>\n",
       "      <td>2.394922e-02</td>\n",
       "      <td>1.320881e-03</td>\n",
       "      <td>0.000000e+00</td>\n",
       "    </tr>\n",
       "    <tr>\n",
       "      <td>75%</td>\n",
       "      <td>0.000000</td>\n",
       "      <td>1.000000</td>\n",
       "      <td>0.000000</td>\n",
       "      <td>0.000000</td>\n",
       "      <td>0.000000</td>\n",
       "      <td>0.000000</td>\n",
       "      <td>0.000000</td>\n",
       "      <td>0.000000</td>\n",
       "      <td>1.000000</td>\n",
       "      <td>1.000000</td>\n",
       "      <td>0.000000</td>\n",
       "      <td>0.000000</td>\n",
       "      <td>0.000000</td>\n",
       "      <td>0.000000</td>\n",
       "      <td>0.000000</td>\n",
       "      <td>0.000000</td>\n",
       "      <td>0.000000</td>\n",
       "      <td>0.000000</td>\n",
       "      <td>0.000000</td>\n",
       "      <td>1.000000</td>\n",
       "      <td>6.724046e-01</td>\n",
       "      <td>6.753187e-01</td>\n",
       "      <td>6.768301e-01</td>\n",
       "      <td>6.732288e-01</td>\n",
       "      <td>6.580800e-01</td>\n",
       "      <td>6.738477e-01</td>\n",
       "      <td>6.737906e-01</td>\n",
       "      <td>6.754616e-01</td>\n",
       "      <td>6.741727e-01</td>\n",
       "      <td>6.723686e-01</td>\n",
       "      <td>6.738986e-01</td>\n",
       "      <td>6.766593e-01</td>\n",
       "      <td>6.795434e-01</td>\n",
       "      <td>6.900969e-01</td>\n",
       "      <td>6.743318e-01</td>\n",
       "      <td>6.770310e-01</td>\n",
       "      <td>6.911391e-01</td>\n",
       "      <td>6.746403e-01</td>\n",
       "      <td>6.741389e-01</td>\n",
       "      <td>6.866962e-01</td>\n",
       "      <td>6.859075e-01</td>\n",
       "      <td>6.781184e-01</td>\n",
       "      <td>6.728561e-01</td>\n",
       "      <td>9.627240e-01</td>\n",
       "      <td>6.784544e-01</td>\n",
       "      <td>6.752709e-01</td>\n",
       "      <td>6.732922e-01</td>\n",
       "      <td>6.737655e-01</td>\n",
       "      <td>6.638159e-01</td>\n",
       "      <td>6.725618e-01</td>\n",
       "      <td>6.736556e-01</td>\n",
       "      <td>6.747798e-01</td>\n",
       "      <td>6.627926e-01</td>\n",
       "      <td>6.725932e-01</td>\n",
       "      <td>6.431130e-01</td>\n",
       "      <td>6.744224e-01</td>\n",
       "      <td>6.696910e-01</td>\n",
       "      <td>6.760232e-01</td>\n",
       "      <td>6.609141e-01</td>\n",
       "      <td>6.763981e-01</td>\n",
       "      <td>6.808350e-01</td>\n",
       "      <td>6.866142e-01</td>\n",
       "      <td>6.747967e-01</td>\n",
       "      <td>6.796233e-01</td>\n",
       "      <td>6.518115e-01</td>\n",
       "      <td>6.743743e-01</td>\n",
       "      <td>6.766323e-01</td>\n",
       "    </tr>\n",
       "    <tr>\n",
       "      <td>max</td>\n",
       "      <td>1.000000</td>\n",
       "      <td>1.000000</td>\n",
       "      <td>1.000000</td>\n",
       "      <td>1.000000</td>\n",
       "      <td>1.000000</td>\n",
       "      <td>1.000000</td>\n",
       "      <td>1.000000</td>\n",
       "      <td>1.000000</td>\n",
       "      <td>1.000000</td>\n",
       "      <td>1.000000</td>\n",
       "      <td>1.000000</td>\n",
       "      <td>1.000000</td>\n",
       "      <td>1.000000</td>\n",
       "      <td>1.000000</td>\n",
       "      <td>1.000000</td>\n",
       "      <td>1.000000</td>\n",
       "      <td>1.000000</td>\n",
       "      <td>1.000000</td>\n",
       "      <td>1.000000</td>\n",
       "      <td>1.000000</td>\n",
       "      <td>4.316499e+00</td>\n",
       "      <td>4.414243e+00</td>\n",
       "      <td>4.821049e+00</td>\n",
       "      <td>4.143130e+00</td>\n",
       "      <td>5.058805e+00</td>\n",
       "      <td>4.734143e+00</td>\n",
       "      <td>4.672795e+00</td>\n",
       "      <td>4.212661e+00</td>\n",
       "      <td>4.405390e+00</td>\n",
       "      <td>4.894508e+00</td>\n",
       "      <td>4.325930e+00</td>\n",
       "      <td>4.409923e+00</td>\n",
       "      <td>4.874658e+00</td>\n",
       "      <td>4.739559e+00</td>\n",
       "      <td>4.917404e+00</td>\n",
       "      <td>4.592894e+00</td>\n",
       "      <td>3.875286e+00</td>\n",
       "      <td>4.206331e+00</td>\n",
       "      <td>4.687976e+00</td>\n",
       "      <td>4.229674e+00</td>\n",
       "      <td>4.690589e+00</td>\n",
       "      <td>4.827667e+00</td>\n",
       "      <td>4.439675e+00</td>\n",
       "      <td>4.809436e+00</td>\n",
       "      <td>4.459823e+00</td>\n",
       "      <td>4.348097e+00</td>\n",
       "      <td>4.157264e+00</td>\n",
       "      <td>4.389767e+00</td>\n",
       "      <td>5.547332e+00</td>\n",
       "      <td>4.997589e+00</td>\n",
       "      <td>4.195871e+00</td>\n",
       "      <td>4.113032e+00</td>\n",
       "      <td>5.348155e+00</td>\n",
       "      <td>4.997877e+00</td>\n",
       "      <td>4.794627e+00</td>\n",
       "      <td>4.354406e+00</td>\n",
       "      <td>4.581106e+00</td>\n",
       "      <td>4.206725e+00</td>\n",
       "      <td>4.469742e+00</td>\n",
       "      <td>4.346286e+00</td>\n",
       "      <td>4.250900e+00</td>\n",
       "      <td>4.492916e+00</td>\n",
       "      <td>4.633689e+00</td>\n",
       "      <td>4.874390e+00</td>\n",
       "      <td>5.135741e+00</td>\n",
       "      <td>4.390770e+00</td>\n",
       "      <td>4.307610e+00</td>\n",
       "    </tr>\n",
       "  </tbody>\n",
       "</table>\n",
       "</div>"
      ],
      "text/plain": [
       "         x24_america       x24_asia     x24_euorpe        x29_Apr  \\\n",
       "count  160000.000000  160000.000000  160000.000000  160000.000000   \n",
       "mean        0.027931       0.868531       0.103362       0.042256   \n",
       "std         0.164776       0.337913       0.304433       0.201174   \n",
       "min         0.000000       0.000000       0.000000       0.000000   \n",
       "25%         0.000000       1.000000       0.000000       0.000000   \n",
       "50%         0.000000       1.000000       0.000000       0.000000   \n",
       "75%         0.000000       1.000000       0.000000       0.000000   \n",
       "max         1.000000       1.000000       1.000000       1.000000   \n",
       "\n",
       "             x29_Aug        x29_Dev        x29_Feb    x29_January  \\\n",
       "count  160000.000000  160000.000000  160000.000000  160000.000000   \n",
       "mean        0.183787       0.000144       0.000875       0.000056   \n",
       "std         0.387312       0.011989       0.029568       0.007500   \n",
       "min         0.000000       0.000000       0.000000       0.000000   \n",
       "25%         0.000000       0.000000       0.000000       0.000000   \n",
       "50%         0.000000       0.000000       0.000000       0.000000   \n",
       "75%         0.000000       0.000000       0.000000       0.000000   \n",
       "max         1.000000       1.000000       1.000000       1.000000   \n",
       "\n",
       "            x29_July        x29_Jun        x29_Mar        x29_May  \\\n",
       "count  160000.000000  160000.000000  160000.000000  160000.000000   \n",
       "mean        0.284806       0.258306       0.007694       0.137119   \n",
       "std         0.451324       0.437705       0.087376       0.343974   \n",
       "min         0.000000       0.000000       0.000000       0.000000   \n",
       "25%         0.000000       0.000000       0.000000       0.000000   \n",
       "50%         0.000000       0.000000       0.000000       0.000000   \n",
       "75%         1.000000       1.000000       0.000000       0.000000   \n",
       "max         1.000000       1.000000       1.000000       1.000000   \n",
       "\n",
       "             x29_Nov        x29_Oct      x29_sept.     x30_friday  \\\n",
       "count  160000.000000  160000.000000  160000.000000  160000.000000   \n",
       "mean        0.002106       0.015044       0.067619       0.003525   \n",
       "std         0.045846       0.121727       0.251091       0.059267   \n",
       "min         0.000000       0.000000       0.000000       0.000000   \n",
       "25%         0.000000       0.000000       0.000000       0.000000   \n",
       "50%         0.000000       0.000000       0.000000       0.000000   \n",
       "75%         0.000000       0.000000       0.000000       0.000000   \n",
       "max         1.000000       1.000000       1.000000       1.000000   \n",
       "\n",
       "          x30_monday    x30_thurday    x30_tuesday  x30_wednesday  \\\n",
       "count  160000.000000  160000.000000  160000.000000  160000.000000   \n",
       "mean        0.003050       0.183931       0.174712       0.634594   \n",
       "std         0.055143       0.387429       0.379722       0.481545   \n",
       "min         0.000000       0.000000       0.000000       0.000000   \n",
       "25%         0.000000       0.000000       0.000000       0.000000   \n",
       "50%         0.000000       0.000000       0.000000       1.000000   \n",
       "75%         0.000000       0.000000       0.000000       1.000000   \n",
       "max         1.000000       1.000000       1.000000       1.000000   \n",
       "\n",
       "                 x0            x1           x10           x11           x12  \\\n",
       "count  1.600000e+05  1.600000e+05  1.600000e+05  1.600000e+05  1.600000e+05   \n",
       "mean  -1.804598e-17  1.102035e-17  4.756820e-17 -3.927414e-19 -1.559239e-17   \n",
       "std    1.000003e+00  1.000003e+00  1.000003e+00  1.000003e+00  1.000003e+00   \n",
       "min   -4.288823e+00 -4.144980e+00 -4.613370e+00 -4.347593e+00 -4.262143e+00   \n",
       "25%   -6.751329e-01 -6.721856e-01 -6.719363e-01 -6.765313e-01 -6.809411e-01   \n",
       "50%   -2.564251e-03  4.255499e-04 -2.218567e-03 -1.971385e-03 -1.943916e-02   \n",
       "75%    6.724046e-01  6.753187e-01  6.768301e-01  6.732288e-01  6.580800e-01   \n",
       "max    4.316499e+00  4.414243e+00  4.821049e+00  4.143130e+00  5.058805e+00   \n",
       "\n",
       "                x13           x14           x15           x16           x17  \\\n",
       "count  1.600000e+05  1.600000e+05  1.600000e+05  1.600000e+05  1.600000e+05   \n",
       "mean   7.489842e-18  9.399079e-18  4.391452e-17  4.215170e-17  2.367169e-17   \n",
       "std    1.000003e+00  1.000003e+00  1.000003e+00  1.000003e+00  1.000003e+00   \n",
       "min   -4.326085e+00 -4.439442e+00 -5.197628e+00 -5.226939e+00 -4.546090e+00   \n",
       "25%   -6.741970e-01 -6.754508e-01 -6.749847e-01 -6.721727e-01 -6.714865e-01   \n",
       "50%   -1.102750e-03 -5.489911e-04  5.299902e-04  1.003642e-03  1.449170e-03   \n",
       "75%    6.738477e-01  6.737906e-01  6.754616e-01  6.741727e-01  6.723686e-01   \n",
       "max    4.734143e+00  4.672795e+00  4.212661e+00  4.405390e+00  4.894508e+00   \n",
       "\n",
       "                x18           x19            x2           x20           x21  \\\n",
       "count  1.600000e+05  1.600000e+05  1.600000e+05  1.600000e+05  1.600000e+05   \n",
       "mean   1.360440e-17  2.464695e-17 -3.920059e-17  7.122081e-18  2.920511e-17   \n",
       "std    1.000003e+00  1.000003e+00  1.000003e+00  1.000003e+00  1.000003e+00   \n",
       "min   -4.451716e+00 -4.695257e+00 -4.388525e+00 -4.646713e+00 -4.620455e+00   \n",
       "25%   -6.757742e-01 -6.747490e-01 -6.791493e-01 -6.727350e-01 -6.729051e-01   \n",
       "50%    3.582753e-04  2.361230e-03 -1.404452e-02  2.284992e-02  1.622344e-04   \n",
       "75%    6.738986e-01  6.766593e-01  6.795434e-01  6.900969e-01  6.743318e-01   \n",
       "max    4.325930e+00  4.409923e+00  4.874658e+00  4.739559e+00  4.917404e+00   \n",
       "\n",
       "                x22           x23           x25           x26           x27  \\\n",
       "count  1.600000e+05  1.600000e+05  1.600000e+05  1.600000e+05  1.600000e+05   \n",
       "mean  -7.996034e-18  5.918877e-19  1.280955e-17  4.336880e-17 -2.148282e-18   \n",
       "std    1.000003e+00  1.000003e+00  1.000003e+00  1.000003e+00  1.000003e+00   \n",
       "min   -4.370773e+00 -4.518874e+00 -5.036420e+00 -4.573763e+00 -4.724280e+00   \n",
       "25%   -6.759157e-01 -6.699712e-01 -6.742094e-01 -6.713980e-01 -6.781389e-01   \n",
       "50%    2.268357e-04  2.014567e-02 -2.144017e-03 -2.063745e-04  5.845370e-03   \n",
       "75%    6.770310e-01  6.911391e-01  6.746403e-01  6.741389e-01  6.866962e-01   \n",
       "max    4.592894e+00  3.875286e+00  4.206331e+00  4.687976e+00  4.229674e+00   \n",
       "\n",
       "                x28            x3           x31           x32           x33  \\\n",
       "count  1.600000e+05  1.600000e+05  1.600000e+05  1.600000e+05  1.600000e+05   \n",
       "mean   4.838872e-17 -4.632753e-18 -1.924017e-17 -6.900256e-16 -4.476280e-18   \n",
       "std    1.000003e+00  1.000003e+00  1.000003e+00  1.000003e+00  1.000003e+00   \n",
       "min   -5.051164e+00 -4.396284e+00 -4.438995e+00 -4.807344e+00 -4.260227e+00   \n",
       "25%   -6.740897e-01 -6.730525e-01 -6.749447e-01 -9.606319e-01 -6.734678e-01   \n",
       "50%    1.453129e-02 -4.649149e-04  2.588918e-03  1.046027e-03  1.489005e-18   \n",
       "75%    6.859075e-01  6.781184e-01  6.728561e-01  9.627240e-01  6.784544e-01   \n",
       "max    4.690589e+00  4.827667e+00  4.439675e+00  4.809436e+00  4.459823e+00   \n",
       "\n",
       "                x34           x35           x36           x37           x38  \\\n",
       "count  1.600000e+05  1.600000e+05  1.600000e+05  1.600000e+05  1.600000e+05   \n",
       "mean   3.270856e-17  2.533251e-17  2.837938e-17 -1.173367e-17  4.356654e-17   \n",
       "std    1.000003e+00  1.000003e+00  1.000003e+00  1.000003e+00  1.000003e+00   \n",
       "min   -4.507126e+00 -4.206687e+00 -4.314053e+00 -4.735532e+00 -4.757673e+00   \n",
       "25%   -6.738405e-01 -6.769888e-01 -6.745661e-01 -6.916398e-01 -6.694039e-01   \n",
       "50%   -1.364203e-03 -1.178031e-03 -1.520119e-03 -1.388443e-02  7.188224e-03   \n",
       "75%    6.752709e-01  6.732922e-01  6.737655e-01  6.638159e-01  6.725618e-01   \n",
       "max    4.348097e+00  4.157264e+00  4.389767e+00  5.547332e+00  4.997589e+00   \n",
       "\n",
       "                x39            x4           x40           x41           x42  \\\n",
       "count  1.600000e+05  1.600000e+05  1.600000e+05  1.600000e+05  1.600000e+05   \n",
       "mean   8.763823e-19  2.820313e-17  2.671197e-17 -6.403766e-17  6.213814e-17   \n",
       "std    1.000003e+00  1.000003e+00  1.000003e+00  1.000003e+00  1.000003e+00   \n",
       "min   -4.305838e+00 -4.460683e+00 -4.209861e+00 -4.757963e+00 -5.107344e+00   \n",
       "25%   -6.743215e-01 -6.755947e-01 -6.827753e-01 -6.693774e-01 -6.513248e-01   \n",
       "50%    2.678216e-03  6.952628e-05 -2.239638e-02  7.174212e-03 -1.747209e-02   \n",
       "75%    6.736556e-01  6.747798e-01  6.627926e-01  6.725932e-01  6.431130e-01   \n",
       "max    4.195871e+00  4.113032e+00  5.348155e+00  4.997877e+00  4.794627e+00   \n",
       "\n",
       "                x43           x44           x45           x46           x47  \\\n",
       "count  1.600000e+05  1.600000e+05  1.600000e+05  1.600000e+05  1.600000e+05   \n",
       "mean  -2.494255e-17 -2.629494e-17  1.855738e-17 -3.249900e-17 -1.504803e-17   \n",
       "std    1.000003e+00  1.000003e+00  1.000003e+00  1.000003e+00  1.000003e+00   \n",
       "min   -4.478940e+00 -4.317236e+00 -4.423038e+00 -5.165183e+00 -4.410353e+00   \n",
       "25%   -6.759260e-01 -6.736191e-01 -6.739953e-01 -6.466453e-01 -6.774574e-01   \n",
       "50%   -1.306216e-03 -6.854330e-04  1.657899e-03 -5.963147e-03  1.276095e-03   \n",
       "75%    6.744224e-01  6.696910e-01  6.760232e-01  6.609141e-01  6.763981e-01   \n",
       "max    4.354406e+00  4.581106e+00  4.206725e+00  4.469742e+00  4.346286e+00   \n",
       "\n",
       "                x48           x49            x5            x6            x7  \\\n",
       "count  1.600000e+05  1.600000e+05  1.600000e+05  1.600000e+05  1.600000e+05   \n",
       "mean   2.673192e-17 -1.673939e-17  1.347533e-18  3.095996e-17  1.590308e-17   \n",
       "std    1.000003e+00  1.000003e+00  1.000003e+00  1.000003e+00  1.000003e+00   \n",
       "min   -4.386877e+00 -4.330971e+00 -4.412028e+00 -4.388436e+00 -5.691438e+00   \n",
       "25%   -6.821912e-01 -6.821356e-01 -6.729231e-01 -6.792036e-01 -6.426278e-01   \n",
       "50%   -5.684651e-03  6.400782e-03  9.047783e-19 -1.415552e-02  2.394922e-02   \n",
       "75%    6.808350e-01  6.866142e-01  6.747967e-01  6.796233e-01  6.518115e-01   \n",
       "max    4.250900e+00  4.492916e+00  4.633689e+00  4.874390e+00  5.135741e+00   \n",
       "\n",
       "                 x8            x9  \n",
       "count  1.600000e+05  1.600000e+05  \n",
       "mean  -5.048045e-17  2.331468e-18  \n",
       "std    1.000003e+00  1.000003e+00  \n",
       "min   -4.231245e+00 -4.404195e+00  \n",
       "25%   -6.740778e-01 -6.712440e-01  \n",
       "50%    1.320881e-03  0.000000e+00  \n",
       "75%    6.743743e-01  6.766323e-01  \n",
       "max    4.390770e+00  4.307610e+00  "
      ]
     },
     "execution_count": 38,
     "metadata": {},
     "output_type": "execute_result"
    }
   ],
   "source": [
    "X.describe()"
   ]
  },
  {
   "cell_type": "markdown",
   "metadata": {},
   "source": [
    "## Model Building"
   ]
  },
  {
   "cell_type": "markdown",
   "metadata": {},
   "source": [
    "Before we begin building our model, we split our data into 2 datasets: 80% for training, 20% for testing. We decided to do rigid split on our data instead of cross validation since size of the data will require a lot of time to run proper k-fold CV.  "
   ]
  },
  {
   "cell_type": "code",
   "execution_count": 68,
   "metadata": {
    "collapsed": false
   },
   "outputs": [
    {
     "data": {
      "text/plain": [
       "((128000, 67), (32000, 67))"
      ]
     },
     "execution_count": 68,
     "metadata": {},
     "output_type": "execute_result"
    }
   ],
   "source": [
    "X_train, X_test, y_train, y_test = train_test_split(X, y, test_size=0.2, random_state=42)\n",
    "X_train.shape, X_test.shape"
   ]
  },
  {
   "cell_type": "markdown",
   "metadata": {},
   "source": [
    "#### Feature Importance and base model"
   ]
  },
  {
   "cell_type": "markdown",
   "metadata": {},
   "source": [
    "First, we fit simple Random Forest model as a starting point to our classification problem to see where we are in terms of precision and recall. We do not set any parameters ourselves because most of the important parameters (max_depth, max_leaf_nodes, min_samples_leaf, min_samples_split) are conveniently set to the values we want. For this model, recall is 50 times more important than precision, since each false negative costs 500 dollars while each false positive costs only 10 dollars. Thus, we will pay more attention to recall."
   ]
  },
  {
   "cell_type": "code",
   "execution_count": 70,
   "metadata": {
    "collapsed": false
   },
   "outputs": [
    {
     "data": {
      "text/plain": [
       "RandomForestClassifier(bootstrap=True, ccp_alpha=0.0, class_weight=None,\n",
       "                       criterion='gini', max_depth=None, max_features='auto',\n",
       "                       max_leaf_nodes=None, max_samples=None,\n",
       "                       min_impurity_decrease=0.0, min_impurity_split=None,\n",
       "                       min_samples_leaf=1, min_samples_split=2,\n",
       "                       min_weight_fraction_leaf=0.0, n_estimators=100,\n",
       "                       n_jobs=-1, oob_score=False, random_state=42, verbose=0,\n",
       "                       warm_start=False)"
      ]
     },
     "execution_count": 70,
     "metadata": {},
     "output_type": "execute_result"
    }
   ],
   "source": [
    "rf_base = RandomForestClassifier(random_state=42, n_jobs=-1)\n",
    "rf_base.fit(X_train, y_train)"
   ]
  },
  {
   "cell_type": "code",
   "execution_count": 41,
   "metadata": {
    "collapsed": false
   },
   "outputs": [
    {
     "data": {
      "text/plain": [
       "(0.9127562061021475, 0.9323408881826545, 0.8677512259671518)"
      ]
     },
     "execution_count": 41,
     "metadata": {},
     "output_type": "execute_result"
    }
   ],
   "source": [
    "(roc_auc_score(y_test, rf_base.predict(X_test)),\n",
    "precision_score(y_test, rf_base.predict(X_test)),\n",
    "recall_score(y_test, rf_base.predict(X_test)))"
   ]
  },
  {
   "cell_type": "markdown",
   "metadata": {},
   "source": [
    "While our simple Random Forest model has AUC and precision scores above 90%, the recall score is only 86.78% meaning model improvements need to be made in order to decrease penalty costs. We will review feature important next to determine where we can begin making improvements."
   ]
  },
  {
   "cell_type": "code",
   "execution_count": 42,
   "metadata": {
    "collapsed": true
   },
   "outputs": [],
   "source": [
    "def get_feature_importance(importance_values, feature_names):\n",
    "    feature_importance = zip(importance_values, feature_names) \n",
    "    feature_importance = sorted(feature_importance, key=lambda t: t[0])\n",
    "    feature_importance = pd.DataFrame(feature_importance, columns=['importance', 'feature'])    \n",
    "    return feature_importance"
   ]
  },
  {
   "cell_type": "code",
   "execution_count": 74,
   "metadata": {
    "collapsed": false
   },
   "outputs": [
    {
     "data": {
      "image/png": "[encoded data removed]",
      "text/plain": [
       "<Figure size 1080x720 with 1 Axes>"
      ]
     },
     "metadata": {},
     "output_type": "display_data"
    }
   ],
   "source": [
    "sorted_importance = get_feature_importance(rf_base.feature_importances_, X_train.columns)\n",
    "ax = sns.barplot(x='importance', y='feature', data=sorted_importance)\n",
    "_ = ax.set_title('Feature importance for our base model')"
   ]
  },
  {
   "cell_type": "markdown",
   "metadata": {},
   "source": [
    "<center>**Figure 9:** Feature Importance Measures of Our Baseline Model for All Attributes </center>"
   ]
  },
  {
   "cell_type": "markdown",
   "metadata": {},
   "source": [
    "Figure 9 shows that all categorical variables are not important in our simple Random Forest model and have importance measures of less than 0.005. Thus, we will drop all categorical variables and fit a new baseline model using only numeric attributes."
   ]
  },
  {
   "cell_type": "code",
   "execution_count": 44,
   "metadata": {
    "collapsed": false
   },
   "outputs": [
    {
     "data": {
      "text/plain": [
       "((128000, 47), (32000, 47))"
      ]
     },
     "execution_count": 44,
     "metadata": {},
     "output_type": "execute_result"
    }
   ],
   "source": [
    "X_train = X_train[sorted_importance[sorted_importance.importance > 0.005].feature.tolist()]\n",
    "X_test = X_test[sorted_importance[sorted_importance.importance > 0.005].feature.tolist()]\n",
    "X_train.shape, X_test.shape "
   ]
  },
  {
   "cell_type": "code",
   "execution_count": 45,
   "metadata": {
    "collapsed": false
   },
   "outputs": [
    {
     "data": {
      "text/plain": [
       "RandomForestClassifier(bootstrap=True, ccp_alpha=0.0, class_weight=None,\n",
       "                       criterion='gini', max_depth=None, max_features='auto',\n",
       "                       max_leaf_nodes=None, max_samples=None,\n",
       "                       min_impurity_decrease=0.0, min_impurity_split=None,\n",
       "                       min_samples_leaf=1, min_samples_split=2,\n",
       "                       min_weight_fraction_leaf=0.0, n_estimators=100,\n",
       "                       n_jobs=-1, oob_score=False, random_state=42, verbose=0,\n",
       "                       warm_start=False)"
      ]
     },
     "execution_count": 45,
     "metadata": {},
     "output_type": "execute_result"
    }
   ],
   "source": [
    "rf_base.fit(X_train, y_train)"
   ]
  },
  {
   "cell_type": "code",
   "execution_count": 46,
   "metadata": {
    "collapsed": false
   },
   "outputs": [
    {
     "data": {
      "text/plain": [
       "(0.914544597225626, 0.9317142144223571, 0.8719545419164008)"
      ]
     },
     "execution_count": 46,
     "metadata": {},
     "output_type": "execute_result"
    }
   ],
   "source": [
    "(roc_auc_score(y_test, rf_base.predict(X_test)),\n",
    "precision_score(y_test, rf_base.predict(X_test)),\n",
    "recall_score(y_test, rf_base.predict(X_test)))"
   ]
  },
  {
   "cell_type": "markdown",
   "metadata": {},
   "source": [
    "Our updated baseline model has AUC and precision scores comparable to our previous model. The recall score has increased to 87.20% showing some improvement, but we still need to do more to minimize penalty costs. "
   ]
  },
  {
   "cell_type": "markdown",
   "metadata": {},
   "source": [
    "#### Interaction Features"
   ]
  },
  {
   "cell_type": "markdown",
   "metadata": {},
   "source": [
    "To continue to find model improvements, we look to add interaction features. Because we have no description of the dataset or the luxury of domain expert to show us what features are important, testing interactions features can find relationships between attributes that are important for overall prediction."
   ]
  },
  {
   "cell_type": "code",
   "execution_count": 47,
   "metadata": {
    "collapsed": false
   },
   "outputs": [
    {
     "data": {
      "text/plain": [
       "PolynomialFeatures(degree=2, include_bias=False, interaction_only=True,\n",
       "                   order='C')"
      ]
     },
     "execution_count": 47,
     "metadata": {},
     "output_type": "execute_result"
    }
   ],
   "source": [
    "poly = PolynomialFeatures(interaction_only=True, include_bias=False)\n",
    "poly.fit(X_train)"
   ]
  },
  {
   "cell_type": "code",
   "execution_count": 48,
   "metadata": {
    "collapsed": false
   },
   "outputs": [
    {
     "data": {
      "text/plain": [
       "((128000, 1128), (32000, 1128))"
      ]
     },
     "execution_count": 48,
     "metadata": {},
     "output_type": "execute_result"
    }
   ],
   "source": [
    "X_train_poly = poly.transform(X_train)\n",
    "X_test_poly = poly.transform(X_test)\n",
    "X_train_poly.shape, X_test_poly.shape"
   ]
  },
  {
   "cell_type": "markdown",
   "metadata": {},
   "source": [
    "We now have 1,128 attributes: our 47 numeric attributes and an interaction feature for each combination of two attributes. We need to get rid of unimportant features to avoid overfitting the model. We do this by running recursive feature elimination. "
   ]
  },
  {
   "cell_type": "code",
   "execution_count": 49,
   "metadata": {
    "collapsed": false
   },
   "outputs": [
    {
     "name": "stdout",
     "output_type": "stream",
     "text": [
      "Fitting estimator with 1128 features.\n",
      "Fitting estimator with 1103 features.\n",
      "Fitting estimator with 1078 features.\n",
      "Fitting estimator with 1053 features.\n",
      "Fitting estimator with 1028 features.\n",
      "Fitting estimator with 1003 features.\n",
      "Fitting estimator with 978 features.\n",
      "Fitting estimator with 953 features.\n",
      "Fitting estimator with 928 features.\n",
      "Fitting estimator with 903 features.\n",
      "Fitting estimator with 878 features.\n",
      "Fitting estimator with 853 features.\n",
      "Fitting estimator with 828 features.\n",
      "Fitting estimator with 803 features.\n",
      "Fitting estimator with 778 features.\n",
      "Fitting estimator with 753 features.\n",
      "Fitting estimator with 728 features.\n",
      "Fitting estimator with 703 features.\n",
      "Fitting estimator with 678 features.\n",
      "Fitting estimator with 653 features.\n",
      "Fitting estimator with 628 features.\n",
      "Fitting estimator with 603 features.\n",
      "Fitting estimator with 578 features.\n",
      "Fitting estimator with 553 features.\n",
      "Fitting estimator with 528 features.\n",
      "Fitting estimator with 503 features.\n",
      "Fitting estimator with 478 features.\n",
      "Fitting estimator with 453 features.\n",
      "Fitting estimator with 428 features.\n",
      "Fitting estimator with 403 features.\n",
      "Fitting estimator with 378 features.\n",
      "Fitting estimator with 353 features.\n",
      "Fitting estimator with 328 features.\n",
      "Fitting estimator with 303 features.\n",
      "Fitting estimator with 278 features.\n",
      "Fitting estimator with 253 features.\n",
      "Fitting estimator with 228 features.\n",
      "Fitting estimator with 203 features.\n",
      "Fitting estimator with 178 features.\n",
      "Fitting estimator with 153 features.\n",
      "Fitting estimator with 128 features.\n",
      "Fitting estimator with 103 features.\n",
      "Fitting estimator with 1128 features.\n",
      "Fitting estimator with 1103 features.\n",
      "Fitting estimator with 1078 features.\n",
      "Fitting estimator with 1053 features.\n",
      "Fitting estimator with 1028 features.\n",
      "Fitting estimator with 1003 features.\n",
      "Fitting estimator with 978 features.\n",
      "Fitting estimator with 953 features.\n",
      "Fitting estimator with 928 features.\n",
      "Fitting estimator with 903 features.\n",
      "Fitting estimator with 878 features.\n",
      "Fitting estimator with 853 features.\n",
      "Fitting estimator with 828 features.\n",
      "Fitting estimator with 803 features.\n",
      "Fitting estimator with 778 features.\n",
      "Fitting estimator with 753 features.\n",
      "Fitting estimator with 728 features.\n",
      "Fitting estimator with 703 features.\n",
      "Fitting estimator with 678 features.\n",
      "Fitting estimator with 653 features.\n",
      "Fitting estimator with 628 features.\n",
      "Fitting estimator with 603 features.\n",
      "Fitting estimator with 578 features.\n",
      "Fitting estimator with 553 features.\n",
      "Fitting estimator with 528 features.\n",
      "Fitting estimator with 503 features.\n",
      "Fitting estimator with 478 features.\n",
      "Fitting estimator with 453 features.\n",
      "Fitting estimator with 428 features.\n",
      "Fitting estimator with 403 features.\n",
      "Fitting estimator with 378 features.\n",
      "Fitting estimator with 353 features.\n",
      "Fitting estimator with 328 features.\n",
      "Fitting estimator with 303 features.\n",
      "Fitting estimator with 278 features.\n",
      "Fitting estimator with 253 features.\n",
      "Fitting estimator with 228 features.\n",
      "Fitting estimator with 203 features.\n",
      "Fitting estimator with 178 features.\n",
      "Fitting estimator with 153 features.\n",
      "Fitting estimator with 128 features.\n",
      "Fitting estimator with 103 features.\n",
      "Fitting estimator with 1128 features.\n",
      "Fitting estimator with 1103 features.\n",
      "Fitting estimator with 1078 features.\n",
      "Fitting estimator with 1053 features.\n",
      "Fitting estimator with 1028 features.\n",
      "Fitting estimator with 1003 features.\n",
      "Fitting estimator with 978 features.\n",
      "Fitting estimator with 953 features.\n",
      "Fitting estimator with 928 features.\n",
      "Fitting estimator with 903 features.\n",
      "Fitting estimator with 878 features.\n",
      "Fitting estimator with 853 features.\n",
      "Fitting estimator with 828 features.\n",
      "Fitting estimator with 803 features.\n",
      "Fitting estimator with 778 features.\n",
      "Fitting estimator with 753 features.\n",
      "Fitting estimator with 728 features.\n",
      "Fitting estimator with 703 features.\n",
      "Fitting estimator with 678 features.\n",
      "Fitting estimator with 653 features.\n",
      "Fitting estimator with 628 features.\n",
      "Fitting estimator with 603 features.\n",
      "Fitting estimator with 578 features.\n",
      "Fitting estimator with 553 features.\n",
      "Fitting estimator with 528 features.\n",
      "Fitting estimator with 503 features.\n",
      "Fitting estimator with 478 features.\n",
      "Fitting estimator with 453 features.\n",
      "Fitting estimator with 428 features.\n",
      "Fitting estimator with 403 features.\n",
      "Fitting estimator with 378 features.\n",
      "Fitting estimator with 353 features.\n",
      "Fitting estimator with 328 features.\n",
      "Fitting estimator with 303 features.\n",
      "Fitting estimator with 278 features.\n",
      "Fitting estimator with 253 features.\n",
      "Fitting estimator with 228 features.\n",
      "Fitting estimator with 203 features.\n",
      "Fitting estimator with 178 features.\n",
      "Fitting estimator with 153 features.\n",
      "Fitting estimator with 128 features.\n",
      "Fitting estimator with 103 features.\n",
      "Fitting estimator with 1128 features.\n",
      "Fitting estimator with 1103 features.\n",
      "Fitting estimator with 1078 features.\n",
      "Fitting estimator with 1053 features.\n",
      "Fitting estimator with 1028 features.\n",
      "Fitting estimator with 1003 features.\n",
      "Fitting estimator with 978 features.\n",
      "Fitting estimator with 953 features.\n",
      "Fitting estimator with 928 features.\n",
      "Fitting estimator with 903 features.\n",
      "Fitting estimator with 878 features.\n",
      "Fitting estimator with 853 features.\n",
      "Fitting estimator with 828 features.\n",
      "Fitting estimator with 803 features.\n",
      "Fitting estimator with 778 features.\n",
      "Fitting estimator with 753 features.\n",
      "Fitting estimator with 728 features.\n",
      "Fitting estimator with 703 features.\n",
      "Fitting estimator with 678 features.\n",
      "Fitting estimator with 653 features.\n",
      "Fitting estimator with 628 features.\n",
      "Fitting estimator with 603 features.\n",
      "Fitting estimator with 578 features.\n",
      "Fitting estimator with 553 features.\n",
      "Fitting estimator with 528 features.\n",
      "Fitting estimator with 503 features.\n",
      "Fitting estimator with 478 features.\n",
      "Fitting estimator with 453 features.\n",
      "Fitting estimator with 428 features.\n",
      "Fitting estimator with 403 features.\n",
      "Fitting estimator with 378 features.\n",
      "Fitting estimator with 353 features.\n",
      "Fitting estimator with 328 features.\n",
      "Fitting estimator with 303 features.\n",
      "Fitting estimator with 278 features.\n",
      "Fitting estimator with 253 features.\n",
      "Fitting estimator with 228 features.\n",
      "Fitting estimator with 203 features.\n",
      "Fitting estimator with 178 features.\n",
      "Fitting estimator with 153 features.\n",
      "Fitting estimator with 128 features.\n",
      "Fitting estimator with 103 features.\n"
     ]
    },
    {
     "data": {
      "text/plain": [
       "RFECV(cv=3,\n",
       "      estimator=RandomForestClassifier(bootstrap=True, ccp_alpha=0.0,\n",
       "                                       class_weight=None, criterion='gini',\n",
       "                                       max_depth=None, max_features='auto',\n",
       "                                       max_leaf_nodes=None, max_samples=None,\n",
       "                                       min_impurity_decrease=0.0,\n",
       "                                       min_impurity_split=None,\n",
       "                                       min_samples_leaf=1, min_samples_split=2,\n",
       "                                       min_weight_fraction_leaf=0.0,\n",
       "                                       n_estimators=50, n_jobs=-1,\n",
       "                                       oob_score=False, random_state=42,\n",
       "                                       verbose=0, warm_start=False),\n",
       "      min_features_to_select=100, n_jobs=None, scoring='roc_auc', step=25,\n",
       "      verbose=2)"
      ]
     },
     "execution_count": 49,
     "metadata": {},
     "output_type": "execute_result"
    }
   ],
   "source": [
    "from sklearn.feature_selection import RFECV\n",
    "estimator = RandomForestClassifier(random_state=42, n_jobs=-1, n_estimators=50)\n",
    "selector = RFECV(estimator, step=25, cv=3, scoring='roc_auc', min_features_to_select=100, verbose=2)\n",
    "selector.fit(X_train_poly, y_train)"
   ]
  },
  {
   "cell_type": "code",
   "execution_count": 50,
   "metadata": {
    "collapsed": false
   },
   "outputs": [
    {
     "data": {
      "text/plain": [
       "(100,)"
      ]
     },
     "execution_count": 50,
     "metadata": {},
     "output_type": "execute_result"
    }
   ],
   "source": [
    "selector.support_[selector.support_ == True].shape"
   ]
  },
  {
   "cell_type": "markdown",
   "metadata": {},
   "source": [
    "After recursive feature elimination is run, we are left with the 100 most important features. This will be used as the basis for further model improvements."
   ]
  },
  {
   "cell_type": "code",
   "execution_count": 51,
   "metadata": {
    "collapsed": true
   },
   "outputs": [],
   "source": [
    "X_train_sel = X_train_poly[:, selector.support_]\n",
    "X_test_sel = X_test_poly[:, selector.support_]"
   ]
  },
  {
   "cell_type": "markdown",
   "metadata": {},
   "source": [
    "#### Final Model"
   ]
  },
  {
   "cell_type": "markdown",
   "metadata": {},
   "source": [
    "Now that we have removed unimportant features, we refit our Random Forest model on selected features."
   ]
  },
  {
   "cell_type": "code",
   "execution_count": 52,
   "metadata": {
    "collapsed": false
   },
   "outputs": [
    {
     "data": {
      "text/plain": [
       "RandomForestClassifier(bootstrap=True, ccp_alpha=0.0, class_weight=None,\n",
       "                       criterion='gini', max_depth=None, max_features='auto',\n",
       "                       max_leaf_nodes=None, max_samples=None,\n",
       "                       min_impurity_decrease=0.0, min_impurity_split=None,\n",
       "                       min_samples_leaf=1, min_samples_split=2,\n",
       "                       min_weight_fraction_leaf=0.0, n_estimators=100,\n",
       "                       n_jobs=-1, oob_score=False, random_state=42, verbose=0,\n",
       "                       warm_start=False)"
      ]
     },
     "execution_count": 52,
     "metadata": {},
     "output_type": "execute_result"
    }
   ],
   "source": [
    "model = RandomForestClassifier(random_state=42, n_jobs=-1)\n",
    "model.fit(X_train_sel, y_train)"
   ]
  },
  {
   "cell_type": "code",
   "execution_count": 53,
   "metadata": {
    "collapsed": false
   },
   "outputs": [
    {
     "data": {
      "text/plain": [
       "(0.9367198501921032, 0.9424842919284678, 0.9107184556705846)"
      ]
     },
     "execution_count": 53,
     "metadata": {},
     "output_type": "execute_result"
    }
   ],
   "source": [
    "(roc_auc_score(y_test, model.predict(X_test_sel)),\n",
    "precision_score(y_test, model.predict(X_test_sel)),\n",
    "recall_score(y_test, model.predict(X_test_sel)))"
   ]
  },
  {
   "cell_type": "markdown",
   "metadata": {},
   "source": [
    "Our updated baseline model sees improvements in all scores, specifically a significant increase in recall with an improved score of 91.07%, up almost 4% from our previous baseline model.\n",
    "\n",
    "Next, we will test various combinations of class weights to see if we can find a combination that will create a model with improved scores."
   ]
  },
  {
   "cell_type": "code",
   "execution_count": 56,
   "metadata": {
    "collapsed": false
   },
   "outputs": [
    {
     "name": "stdout",
     "output_type": "stream",
     "text": [
      "{1: 0.5, 0: 0.5}: (0.9367198501921032, 0.9424842919284678, 0.9107184556705846)\n",
      "{1: 0.6, 0: 0.4}: (0.9375917604112428, 0.9438265635074146, 0.9115746866972834)\n",
      "{1: 0.7, 0: 0.30000000000000004}: (0.9383777134609375, 0.9414497396876251, 0.9149217716198335)\n",
      "{1: 0.7999999999999999, 0: 0.20000000000000007}: (0.9355877600713401, 0.9349366886995302, 0.9138320230403986)\n"
     ]
    }
   ],
   "source": [
    "a = np.arange(0.5, 0.9, 0.1)\n",
    "b = 1.0 - a\n",
    "weights = map(lambda t: {1: t[0], 0: t[1]}, zip(a, b))\n",
    "for weight in weights:\n",
    "    weighted_model = RandomForestClassifier(random_state=42, n_jobs=-1, class_weight={1: weight[0], 0: weight[1]})\n",
    "    _ = weighted_model.fit(X_train_sel, y_train)\n",
    "    scores = (roc_auc_score(y_test, weighted_model.predict(X_test_sel)),\n",
    "              precision_score(y_test, weighted_model.predict(X_test_sel)),\n",
    "              recall_score(y_test, weighted_model.predict(X_test_sel)))\n",
    "    print(f'{weight}: {scores}')"
   ]
  },
  {
   "cell_type": "markdown",
   "metadata": {},
   "source": [
    "Based on the tested combinations, we will set **class_weight** to *{1: 0.6, 0: 0.4}* since it gives us slightly better recall without decreasing precision."
   ]
  },
  {
   "cell_type": "markdown",
   "metadata": {},
   "source": [
    "Finally, we look to find the best hyperparameters for our model that will lead to the best recall score. We do this by testing various combinations of **n_estimators**, **min_samples_split**, and **min_samples_leaf**."
   ]
  },
  {
   "cell_type": "code",
   "execution_count": 57,
   "metadata": {
    "collapsed": false
   },
   "outputs": [
    {
     "name": "stdout",
     "output_type": "stream",
     "text": [
      "Fitting 2 folds for each of 50 candidates, totalling 100 fits\n",
      "[CV] n_estimators=50, min_samples_split=5, min_samples_leaf=2 ........\n"
     ]
    },
    {
     "name": "stderr",
     "output_type": "stream",
     "text": [
      "[Parallel(n_jobs=1)]: Using backend SequentialBackend with 1 concurrent workers.\n"
     ]
    },
    {
     "name": "stdout",
     "output_type": "stream",
     "text": [
      "[CV]  n_estimators=50, min_samples_split=5, min_samples_leaf=2, total=   5.0s\n",
      "[CV] n_estimators=50, min_samples_split=5, min_samples_leaf=2 ........\n"
     ]
    },
    {
     "name": "stderr",
     "output_type": "stream",
     "text": [
      "[Parallel(n_jobs=1)]: Done   1 out of   1 | elapsed:    5.0s remaining:    0.0s\n"
     ]
    },
    {
     "name": "stdout",
     "output_type": "stream",
     "text": [
      "[CV]  n_estimators=50, min_samples_split=5, min_samples_leaf=2, total=   3.9s\n",
      "[CV] n_estimators=50, min_samples_split=9, min_samples_leaf=5 ........\n",
      "[CV]  n_estimators=50, min_samples_split=9, min_samples_leaf=5, total=   3.7s\n",
      "[CV] n_estimators=50, min_samples_split=9, min_samples_leaf=5 ........\n",
      "[CV]  n_estimators=50, min_samples_split=9, min_samples_leaf=5, total=   3.7s\n",
      "[CV] n_estimators=10, min_samples_split=2, min_samples_leaf=9 ........\n",
      "[CV]  n_estimators=10, min_samples_split=2, min_samples_leaf=9, total=   0.9s\n",
      "[CV] n_estimators=10, min_samples_split=2, min_samples_leaf=9 ........\n",
      "[CV]  n_estimators=10, min_samples_split=2, min_samples_leaf=9, total=   1.0s\n",
      "[CV] n_estimators=100, min_samples_split=4, min_samples_leaf=2 .......\n",
      "[CV]  n_estimators=100, min_samples_split=4, min_samples_leaf=2, total=   7.3s\n",
      "[CV] n_estimators=100, min_samples_split=4, min_samples_leaf=2 .......\n",
      "[CV]  n_estimators=100, min_samples_split=4, min_samples_leaf=2, total=   7.3s\n",
      "[CV] n_estimators=50, min_samples_split=7, min_samples_leaf=6 ........\n",
      "[CV]  n_estimators=50, min_samples_split=7, min_samples_leaf=6, total=   3.7s\n",
      "[CV] n_estimators=50, min_samples_split=7, min_samples_leaf=6 ........\n",
      "[CV]  n_estimators=50, min_samples_split=7, min_samples_leaf=6, total=   3.7s\n",
      "[CV] n_estimators=50, min_samples_split=4, min_samples_leaf=1 ........\n",
      "[CV]  n_estimators=50, min_samples_split=4, min_samples_leaf=1, total=   3.9s\n",
      "[CV] n_estimators=50, min_samples_split=4, min_samples_leaf=1 ........\n",
      "[CV]  n_estimators=50, min_samples_split=4, min_samples_leaf=1, total=   4.0s\n",
      "[CV] n_estimators=100, min_samples_split=5, min_samples_leaf=2 .......\n",
      "[CV]  n_estimators=100, min_samples_split=5, min_samples_leaf=2, total=   7.4s\n",
      "[CV] n_estimators=100, min_samples_split=5, min_samples_leaf=2 .......\n",
      "[CV]  n_estimators=100, min_samples_split=5, min_samples_leaf=2, total=   7.3s\n",
      "[CV] n_estimators=10, min_samples_split=5, min_samples_leaf=6 ........\n",
      "[CV]  n_estimators=10, min_samples_split=5, min_samples_leaf=6, total=   1.0s\n",
      "[CV] n_estimators=10, min_samples_split=5, min_samples_leaf=6 ........\n",
      "[CV]  n_estimators=10, min_samples_split=5, min_samples_leaf=6, total=   1.0s\n",
      "[CV] n_estimators=50, min_samples_split=5, min_samples_leaf=3 ........\n",
      "[CV]  n_estimators=50, min_samples_split=5, min_samples_leaf=3, total=   3.7s\n",
      "[CV] n_estimators=50, min_samples_split=5, min_samples_leaf=3 ........\n",
      "[CV]  n_estimators=50, min_samples_split=5, min_samples_leaf=3, total=   3.8s\n",
      "[CV] n_estimators=200, min_samples_split=2, min_samples_leaf=7 .......\n",
      "[CV]  n_estimators=200, min_samples_split=2, min_samples_leaf=7, total=  13.4s\n",
      "[CV] n_estimators=200, min_samples_split=2, min_samples_leaf=7 .......\n",
      "[CV]  n_estimators=200, min_samples_split=2, min_samples_leaf=7, total=  13.5s\n",
      "[CV] n_estimators=100, min_samples_split=9, min_samples_leaf=7 .......\n",
      "[CV]  n_estimators=100, min_samples_split=9, min_samples_leaf=7, total=   6.8s\n",
      "[CV] n_estimators=100, min_samples_split=9, min_samples_leaf=7 .......\n",
      "[CV]  n_estimators=100, min_samples_split=9, min_samples_leaf=7, total=   6.8s\n",
      "[CV] n_estimators=50, min_samples_split=2, min_samples_leaf=2 ........\n",
      "[CV]  n_estimators=50, min_samples_split=2, min_samples_leaf=2, total=   3.9s\n",
      "[CV] n_estimators=50, min_samples_split=2, min_samples_leaf=2 ........\n",
      "[CV]  n_estimators=50, min_samples_split=2, min_samples_leaf=2, total=   3.9s\n",
      "[CV] n_estimators=10, min_samples_split=7, min_samples_leaf=4 ........\n",
      "[CV]  n_estimators=10, min_samples_split=7, min_samples_leaf=4, total=   1.0s\n",
      "[CV] n_estimators=10, min_samples_split=7, min_samples_leaf=4 ........\n",
      "[CV]  n_estimators=10, min_samples_split=7, min_samples_leaf=4, total=   1.0s\n",
      "[CV] n_estimators=200, min_samples_split=7, min_samples_leaf=9 .......\n",
      "[CV]  n_estimators=200, min_samples_split=7, min_samples_leaf=9, total=  13.0s\n",
      "[CV] n_estimators=200, min_samples_split=7, min_samples_leaf=9 .......\n",
      "[CV]  n_estimators=200, min_samples_split=7, min_samples_leaf=9, total=  13.2s\n",
      "[CV] n_estimators=10, min_samples_split=8, min_samples_leaf=2 ........\n",
      "[CV]  n_estimators=10, min_samples_split=8, min_samples_leaf=2, total=   1.0s\n",
      "[CV] n_estimators=10, min_samples_split=8, min_samples_leaf=2 ........\n",
      "[CV]  n_estimators=10, min_samples_split=8, min_samples_leaf=2, total=   1.0s\n",
      "[CV] n_estimators=10, min_samples_split=8, min_samples_leaf=7 ........\n",
      "[CV]  n_estimators=10, min_samples_split=8, min_samples_leaf=7, total=   0.9s\n",
      "[CV] n_estimators=10, min_samples_split=8, min_samples_leaf=7 ........\n",
      "[CV]  n_estimators=10, min_samples_split=8, min_samples_leaf=7, total=   1.0s\n",
      "[CV] n_estimators=50, min_samples_split=3, min_samples_leaf=1 ........\n",
      "[CV]  n_estimators=50, min_samples_split=3, min_samples_leaf=1, total=   3.9s\n",
      "[CV] n_estimators=50, min_samples_split=3, min_samples_leaf=1 ........\n",
      "[CV]  n_estimators=50, min_samples_split=3, min_samples_leaf=1, total=   4.0s\n",
      "[CV] n_estimators=10, min_samples_split=2, min_samples_leaf=8 ........\n",
      "[CV]  n_estimators=10, min_samples_split=2, min_samples_leaf=8, total=   1.0s\n",
      "[CV] n_estimators=10, min_samples_split=2, min_samples_leaf=8 ........\n",
      "[CV]  n_estimators=10, min_samples_split=2, min_samples_leaf=8, total=   1.0s\n",
      "[CV] n_estimators=50, min_samples_split=5, min_samples_leaf=8 ........\n",
      "[CV]  n_estimators=50, min_samples_split=5, min_samples_leaf=8, total=   3.6s\n",
      "[CV] n_estimators=50, min_samples_split=5, min_samples_leaf=8 ........\n",
      "[CV]  n_estimators=50, min_samples_split=5, min_samples_leaf=8, total=   3.6s\n",
      "[CV] n_estimators=200, min_samples_split=4, min_samples_leaf=3 .......\n"
     ]
    },
    {
     "name": "stderr",
     "output_type": "stream",
     "text": [
      "/Users/vorl/opt/anaconda3/lib/python3.7/site-packages/joblib/externals/loky/process_executor.py:706: UserWarning: A worker stopped while some jobs were given to the executor. This can be caused by a too short worker timeout or by a memory leak.\n",
      "  \"timeout or by a memory leak.\", UserWarning\n"
     ]
    },
    {
     "name": "stdout",
     "output_type": "stream",
     "text": [
      "[CV]  n_estimators=200, min_samples_split=4, min_samples_leaf=3, total=  14.2s\n",
      "[CV] n_estimators=200, min_samples_split=4, min_samples_leaf=3 .......\n"
     ]
    },
    {
     "name": "stderr",
     "output_type": "stream",
     "text": [
      "/Users/vorl/opt/anaconda3/lib/python3.7/site-packages/joblib/externals/loky/process_executor.py:706: UserWarning: A worker stopped while some jobs were given to the executor. This can be caused by a too short worker timeout or by a memory leak.\n",
      "  \"timeout or by a memory leak.\", UserWarning\n"
     ]
    },
    {
     "name": "stdout",
     "output_type": "stream",
     "text": [
      "[CV]  n_estimators=200, min_samples_split=4, min_samples_leaf=3, total=  14.3s\n",
      "[CV] n_estimators=200, min_samples_split=4, min_samples_leaf=9 .......\n",
      "[CV]  n_estimators=200, min_samples_split=4, min_samples_leaf=9, total=  13.2s\n",
      "[CV] n_estimators=200, min_samples_split=4, min_samples_leaf=9 .......\n",
      "[CV]  n_estimators=200, min_samples_split=4, min_samples_leaf=9, total=  13.3s\n",
      "[CV] n_estimators=10, min_samples_split=7, min_samples_leaf=3 ........\n",
      "[CV]  n_estimators=10, min_samples_split=7, min_samples_leaf=3, total=   1.0s\n",
      "[CV] n_estimators=10, min_samples_split=7, min_samples_leaf=3 ........\n",
      "[CV]  n_estimators=10, min_samples_split=7, min_samples_leaf=3, total=   1.0s\n",
      "[CV] n_estimators=50, min_samples_split=6, min_samples_leaf=4 ........\n",
      "[CV]  n_estimators=50, min_samples_split=6, min_samples_leaf=4, total=   3.8s\n",
      "[CV] n_estimators=50, min_samples_split=6, min_samples_leaf=4 ........\n"
     ]
    },
    {
     "name": "stderr",
     "output_type": "stream",
     "text": [
      "/Users/vorl/opt/anaconda3/lib/python3.7/site-packages/joblib/externals/loky/process_executor.py:706: UserWarning: A worker stopped while some jobs were given to the executor. This can be caused by a too short worker timeout or by a memory leak.\n",
      "  \"timeout or by a memory leak.\", UserWarning\n"
     ]
    },
    {
     "name": "stdout",
     "output_type": "stream",
     "text": [
      "[CV]  n_estimators=50, min_samples_split=6, min_samples_leaf=4, total=   3.8s\n",
      "[CV] n_estimators=100, min_samples_split=9, min_samples_leaf=9 .......\n",
      "[CV]  n_estimators=100, min_samples_split=9, min_samples_leaf=9, total=   6.7s\n",
      "[CV] n_estimators=100, min_samples_split=9, min_samples_leaf=9 .......\n"
     ]
    },
    {
     "name": "stderr",
     "output_type": "stream",
     "text": [
      "/Users/vorl/opt/anaconda3/lib/python3.7/site-packages/joblib/externals/loky/process_executor.py:706: UserWarning: A worker stopped while some jobs were given to the executor. This can be caused by a too short worker timeout or by a memory leak.\n",
      "  \"timeout or by a memory leak.\", UserWarning\n"
     ]
    },
    {
     "name": "stdout",
     "output_type": "stream",
     "text": [
      "[CV]  n_estimators=100, min_samples_split=9, min_samples_leaf=9, total=   6.9s\n",
      "[CV] n_estimators=50, min_samples_split=4, min_samples_leaf=3 ........\n",
      "[CV]  n_estimators=50, min_samples_split=4, min_samples_leaf=3, total=   3.9s\n",
      "[CV] n_estimators=50, min_samples_split=4, min_samples_leaf=3 ........\n",
      "[CV]  n_estimators=50, min_samples_split=4, min_samples_leaf=3, total=   3.9s\n",
      "[CV] n_estimators=100, min_samples_split=8, min_samples_leaf=8 .......\n",
      "[CV]  n_estimators=100, min_samples_split=8, min_samples_leaf=8, total=   6.8s\n",
      "[CV] n_estimators=100, min_samples_split=8, min_samples_leaf=8 .......\n",
      "[CV]  n_estimators=100, min_samples_split=8, min_samples_leaf=8, total=   6.8s\n",
      "[CV] n_estimators=10, min_samples_split=5, min_samples_leaf=5 ........\n",
      "[CV]  n_estimators=10, min_samples_split=5, min_samples_leaf=5, total=   1.0s\n",
      "[CV] n_estimators=10, min_samples_split=5, min_samples_leaf=5 ........\n",
      "[CV]  n_estimators=10, min_samples_split=5, min_samples_leaf=5, total=   1.2s\n",
      "[CV] n_estimators=200, min_samples_split=6, min_samples_leaf=5 .......\n",
      "[CV]  n_estimators=200, min_samples_split=6, min_samples_leaf=5, total=  13.7s\n",
      "[CV] n_estimators=200, min_samples_split=6, min_samples_leaf=5 .......\n"
     ]
    },
    {
     "name": "stderr",
     "output_type": "stream",
     "text": [
      "/Users/vorl/opt/anaconda3/lib/python3.7/site-packages/joblib/externals/loky/process_executor.py:706: UserWarning: A worker stopped while some jobs were given to the executor. This can be caused by a too short worker timeout or by a memory leak.\n",
      "  \"timeout or by a memory leak.\", UserWarning\n"
     ]
    },
    {
     "name": "stdout",
     "output_type": "stream",
     "text": [
      "[CV]  n_estimators=200, min_samples_split=6, min_samples_leaf=5, total=  13.9s\n",
      "[CV] n_estimators=200, min_samples_split=5, min_samples_leaf=4 .......\n",
      "[CV]  n_estimators=200, min_samples_split=5, min_samples_leaf=4, total=  13.9s\n",
      "[CV] n_estimators=200, min_samples_split=5, min_samples_leaf=4 .......\n"
     ]
    },
    {
     "name": "stderr",
     "output_type": "stream",
     "text": [
      "/Users/vorl/opt/anaconda3/lib/python3.7/site-packages/joblib/externals/loky/process_executor.py:706: UserWarning: A worker stopped while some jobs were given to the executor. This can be caused by a too short worker timeout or by a memory leak.\n",
      "  \"timeout or by a memory leak.\", UserWarning\n"
     ]
    },
    {
     "name": "stdout",
     "output_type": "stream",
     "text": [
      "[CV]  n_estimators=200, min_samples_split=5, min_samples_leaf=4, total=  14.1s\n",
      "[CV] n_estimators=10, min_samples_split=9, min_samples_leaf=2 ........\n",
      "[CV]  n_estimators=10, min_samples_split=9, min_samples_leaf=2, total=   1.0s\n",
      "[CV] n_estimators=10, min_samples_split=9, min_samples_leaf=2 ........\n",
      "[CV]  n_estimators=10, min_samples_split=9, min_samples_leaf=2, total=   1.0s\n",
      "[CV] n_estimators=50, min_samples_split=3, min_samples_leaf=4 ........\n",
      "[CV]  n_estimators=50, min_samples_split=3, min_samples_leaf=4, total=   3.7s\n",
      "[CV] n_estimators=50, min_samples_split=3, min_samples_leaf=4 ........\n",
      "[CV]  n_estimators=50, min_samples_split=3, min_samples_leaf=4, total=   3.8s\n",
      "[CV] n_estimators=50, min_samples_split=8, min_samples_leaf=6 ........\n",
      "[CV]  n_estimators=50, min_samples_split=8, min_samples_leaf=6, total=   3.6s\n",
      "[CV] n_estimators=50, min_samples_split=8, min_samples_leaf=6 ........\n"
     ]
    },
    {
     "name": "stderr",
     "output_type": "stream",
     "text": [
      "/Users/vorl/opt/anaconda3/lib/python3.7/site-packages/joblib/externals/loky/process_executor.py:706: UserWarning: A worker stopped while some jobs were given to the executor. This can be caused by a too short worker timeout or by a memory leak.\n",
      "  \"timeout or by a memory leak.\", UserWarning\n"
     ]
    },
    {
     "name": "stdout",
     "output_type": "stream",
     "text": [
      "[CV]  n_estimators=50, min_samples_split=8, min_samples_leaf=6, total=   3.7s\n",
      "[CV] n_estimators=100, min_samples_split=8, min_samples_leaf=5 .......\n",
      "[CV]  n_estimators=100, min_samples_split=8, min_samples_leaf=5, total=   7.1s\n",
      "[CV] n_estimators=100, min_samples_split=8, min_samples_leaf=5 .......\n",
      "[CV]  n_estimators=100, min_samples_split=8, min_samples_leaf=5, total=   7.1s\n",
      "[CV] n_estimators=10, min_samples_split=5, min_samples_leaf=8 ........\n",
      "[CV]  n_estimators=10, min_samples_split=5, min_samples_leaf=8, total=   1.0s\n",
      "[CV] n_estimators=10, min_samples_split=5, min_samples_leaf=8 ........\n",
      "[CV]  n_estimators=10, min_samples_split=5, min_samples_leaf=8, total=   0.9s\n",
      "[CV] n_estimators=200, min_samples_split=7, min_samples_leaf=6 .......\n",
      "[CV]  n_estimators=200, min_samples_split=7, min_samples_leaf=6, total=  13.6s\n",
      "[CV] n_estimators=200, min_samples_split=7, min_samples_leaf=6 .......\n",
      "[CV]  n_estimators=200, min_samples_split=7, min_samples_leaf=6, total=  13.7s\n",
      "[CV] n_estimators=10, min_samples_split=4, min_samples_leaf=6 ........\n",
      "[CV]  n_estimators=10, min_samples_split=4, min_samples_leaf=6, total=   1.0s\n",
      "[CV] n_estimators=10, min_samples_split=4, min_samples_leaf=6 ........\n",
      "[CV]  n_estimators=10, min_samples_split=4, min_samples_leaf=6, total=   0.9s\n",
      "[CV] n_estimators=200, min_samples_split=3, min_samples_leaf=8 .......\n",
      "[CV]  n_estimators=200, min_samples_split=3, min_samples_leaf=8, total=  13.3s\n",
      "[CV] n_estimators=200, min_samples_split=3, min_samples_leaf=8 .......\n"
     ]
    },
    {
     "name": "stderr",
     "output_type": "stream",
     "text": [
      "/Users/vorl/opt/anaconda3/lib/python3.7/site-packages/joblib/externals/loky/process_executor.py:706: UserWarning: A worker stopped while some jobs were given to the executor. This can be caused by a too short worker timeout or by a memory leak.\n",
      "  \"timeout or by a memory leak.\", UserWarning\n"
     ]
    },
    {
     "name": "stdout",
     "output_type": "stream",
     "text": [
      "[CV]  n_estimators=200, min_samples_split=3, min_samples_leaf=8, total=  13.4s\n",
      "[CV] n_estimators=200, min_samples_split=5, min_samples_leaf=5 .......\n"
     ]
    },
    {
     "name": "stderr",
     "output_type": "stream",
     "text": [
      "/Users/vorl/opt/anaconda3/lib/python3.7/site-packages/joblib/externals/loky/process_executor.py:706: UserWarning: A worker stopped while some jobs were given to the executor. This can be caused by a too short worker timeout or by a memory leak.\n",
      "  \"timeout or by a memory leak.\", UserWarning\n"
     ]
    },
    {
     "name": "stdout",
     "output_type": "stream",
     "text": [
      "[CV]  n_estimators=200, min_samples_split=5, min_samples_leaf=5, total=  14.0s\n",
      "[CV] n_estimators=200, min_samples_split=5, min_samples_leaf=5 .......\n"
     ]
    },
    {
     "name": "stderr",
     "output_type": "stream",
     "text": [
      "/Users/vorl/opt/anaconda3/lib/python3.7/site-packages/joblib/externals/loky/process_executor.py:706: UserWarning: A worker stopped while some jobs were given to the executor. This can be caused by a too short worker timeout or by a memory leak.\n",
      "  \"timeout or by a memory leak.\", UserWarning\n"
     ]
    },
    {
     "name": "stdout",
     "output_type": "stream",
     "text": [
      "[CV]  n_estimators=200, min_samples_split=5, min_samples_leaf=5, total=  13.9s\n",
      "[CV] n_estimators=100, min_samples_split=4, min_samples_leaf=7 .......\n",
      "[CV]  n_estimators=100, min_samples_split=4, min_samples_leaf=7, total=   6.8s\n",
      "[CV] n_estimators=100, min_samples_split=4, min_samples_leaf=7 .......\n",
      "[CV]  n_estimators=100, min_samples_split=4, min_samples_leaf=7, total=   6.8s\n",
      "[CV] n_estimators=50, min_samples_split=7, min_samples_leaf=4 ........\n",
      "[CV]  n_estimators=50, min_samples_split=7, min_samples_leaf=4, total=   3.8s\n",
      "[CV] n_estimators=50, min_samples_split=7, min_samples_leaf=4 ........\n",
      "[CV]  n_estimators=50, min_samples_split=7, min_samples_leaf=4, total=   3.7s\n",
      "[CV] n_estimators=50, min_samples_split=3, min_samples_leaf=6 ........\n"
     ]
    },
    {
     "name": "stderr",
     "output_type": "stream",
     "text": [
      "/Users/vorl/opt/anaconda3/lib/python3.7/site-packages/joblib/externals/loky/process_executor.py:706: UserWarning: A worker stopped while some jobs were given to the executor. This can be caused by a too short worker timeout or by a memory leak.\n",
      "  \"timeout or by a memory leak.\", UserWarning\n"
     ]
    },
    {
     "name": "stdout",
     "output_type": "stream",
     "text": [
      "[CV]  n_estimators=50, min_samples_split=3, min_samples_leaf=6, total=   3.7s\n",
      "[CV] n_estimators=50, min_samples_split=3, min_samples_leaf=6 ........\n",
      "[CV]  n_estimators=50, min_samples_split=3, min_samples_leaf=6, total=   3.7s\n",
      "[CV] n_estimators=100, min_samples_split=9, min_samples_leaf=8 .......\n"
     ]
    },
    {
     "name": "stderr",
     "output_type": "stream",
     "text": [
      "/Users/vorl/opt/anaconda3/lib/python3.7/site-packages/joblib/externals/loky/process_executor.py:706: UserWarning: A worker stopped while some jobs were given to the executor. This can be caused by a too short worker timeout or by a memory leak.\n",
      "  \"timeout or by a memory leak.\", UserWarning\n"
     ]
    },
    {
     "name": "stdout",
     "output_type": "stream",
     "text": [
      "[CV]  n_estimators=100, min_samples_split=9, min_samples_leaf=8, total=   6.8s\n",
      "[CV] n_estimators=100, min_samples_split=9, min_samples_leaf=8 .......\n",
      "[CV]  n_estimators=100, min_samples_split=9, min_samples_leaf=8, total=   6.8s\n",
      "[CV] n_estimators=200, min_samples_split=8, min_samples_leaf=5 .......\n"
     ]
    },
    {
     "name": "stderr",
     "output_type": "stream",
     "text": [
      "/Users/vorl/opt/anaconda3/lib/python3.7/site-packages/joblib/externals/loky/process_executor.py:706: UserWarning: A worker stopped while some jobs were given to the executor. This can be caused by a too short worker timeout or by a memory leak.\n",
      "  \"timeout or by a memory leak.\", UserWarning\n"
     ]
    },
    {
     "name": "stdout",
     "output_type": "stream",
     "text": [
      "[CV]  n_estimators=200, min_samples_split=8, min_samples_leaf=5, total=  13.9s\n",
      "[CV] n_estimators=200, min_samples_split=8, min_samples_leaf=5 .......\n",
      "[CV]  n_estimators=200, min_samples_split=8, min_samples_leaf=5, total=  13.8s\n",
      "[CV] n_estimators=10, min_samples_split=3, min_samples_leaf=5 ........\n",
      "[CV]  n_estimators=10, min_samples_split=3, min_samples_leaf=5, total=   1.0s\n",
      "[CV] n_estimators=10, min_samples_split=3, min_samples_leaf=5 ........\n",
      "[CV]  n_estimators=10, min_samples_split=3, min_samples_leaf=5, total=   1.0s\n",
      "[CV] n_estimators=100, min_samples_split=9, min_samples_leaf=1 .......\n",
      "[CV]  n_estimators=100, min_samples_split=9, min_samples_leaf=1, total=   7.5s\n",
      "[CV] n_estimators=100, min_samples_split=9, min_samples_leaf=1 .......\n",
      "[CV]  n_estimators=100, min_samples_split=9, min_samples_leaf=1, total=   7.5s\n",
      "[CV] n_estimators=100, min_samples_split=7, min_samples_leaf=1 .......\n",
      "[CV]  n_estimators=100, min_samples_split=7, min_samples_leaf=1, total=   7.5s\n",
      "[CV] n_estimators=100, min_samples_split=7, min_samples_leaf=1 .......\n",
      "[CV]  n_estimators=100, min_samples_split=7, min_samples_leaf=1, total=   7.4s\n",
      "[CV] n_estimators=10, min_samples_split=8, min_samples_leaf=1 ........\n",
      "[CV]  n_estimators=10, min_samples_split=8, min_samples_leaf=1, total=   1.0s\n",
      "[CV] n_estimators=10, min_samples_split=8, min_samples_leaf=1 ........\n",
      "[CV]  n_estimators=10, min_samples_split=8, min_samples_leaf=1, total=   1.1s\n",
      "[CV] n_estimators=100, min_samples_split=9, min_samples_leaf=5 .......\n",
      "[CV]  n_estimators=100, min_samples_split=9, min_samples_leaf=5, total=   7.0s\n",
      "[CV] n_estimators=100, min_samples_split=9, min_samples_leaf=5 .......\n",
      "[CV]  n_estimators=100, min_samples_split=9, min_samples_leaf=5, total=   7.0s\n",
      "[CV] n_estimators=10, min_samples_split=6, min_samples_leaf=5 ........\n",
      "[CV]  n_estimators=10, min_samples_split=6, min_samples_leaf=5, total=   1.0s\n",
      "[CV] n_estimators=10, min_samples_split=6, min_samples_leaf=5 ........\n",
      "[CV]  n_estimators=10, min_samples_split=6, min_samples_leaf=5, total=   1.0s\n",
      "[CV] n_estimators=200, min_samples_split=3, min_samples_leaf=6 .......\n"
     ]
    },
    {
     "name": "stderr",
     "output_type": "stream",
     "text": [
      "/Users/vorl/opt/anaconda3/lib/python3.7/site-packages/joblib/externals/loky/process_executor.py:706: UserWarning: A worker stopped while some jobs were given to the executor. This can be caused by a too short worker timeout or by a memory leak.\n",
      "  \"timeout or by a memory leak.\", UserWarning\n"
     ]
    },
    {
     "name": "stdout",
     "output_type": "stream",
     "text": [
      "[CV]  n_estimators=200, min_samples_split=3, min_samples_leaf=6, total=  13.6s\n",
      "[CV] n_estimators=200, min_samples_split=3, min_samples_leaf=6 .......\n"
     ]
    },
    {
     "name": "stderr",
     "output_type": "stream",
     "text": [
      "/Users/vorl/opt/anaconda3/lib/python3.7/site-packages/joblib/externals/loky/process_executor.py:706: UserWarning: A worker stopped while some jobs were given to the executor. This can be caused by a too short worker timeout or by a memory leak.\n",
      "  \"timeout or by a memory leak.\", UserWarning\n"
     ]
    },
    {
     "name": "stdout",
     "output_type": "stream",
     "text": [
      "[CV]  n_estimators=200, min_samples_split=3, min_samples_leaf=6, total=  13.6s\n"
     ]
    },
    {
     "name": "stderr",
     "output_type": "stream",
     "text": [
      "[Parallel(n_jobs=1)]: Done 100 out of 100 | elapsed:  9.9min finished\n"
     ]
    }
   ],
   "source": [
    "weighted_model = RandomForestClassifier(random_state=42, class_weight={1: 0.6, 0: 0.4}, n_jobs=-1)\n",
    "distributions = dict(n_estimators=[10, 50, 100, 200],\n",
    "                     min_samples_split=list(range(2, 10)),\n",
    "                     min_samples_leaf=list(range(1, 10)))\n",
    "clf = RandomizedSearchCV(weighted_model, distributions, random_state=42, scoring='recall',\n",
    "                         cv=2, n_iter=50, verbose=2)\n",
    "search = clf.fit(X_train_sel, y_train)"
   ]
  },
  {
   "cell_type": "code",
   "execution_count": 60,
   "metadata": {
    "collapsed": false
   },
   "outputs": [
    {
     "data": {
      "text/plain": [
       "{'n_estimators': 200, 'min_samples_split': 7, 'min_samples_leaf': 9}"
      ]
     },
     "execution_count": 60,
     "metadata": {},
     "output_type": "execute_result"
    }
   ],
   "source": [
    "clf.best_params_"
   ]
  },
  {
   "cell_type": "markdown",
   "metadata": {},
   "source": [
    "The best set of hyperparameters we find are **n_estimators** = 200, **min_samples_split** = 7, and **min_samples_leaf** = 7. We use this set of hyperparameters along with our previously found model improvements to fit our final model."
   ]
  },
  {
   "cell_type": "code",
   "execution_count": 58,
   "metadata": {
    "collapsed": false
   },
   "outputs": [
    {
     "data": {
      "text/plain": [
       "RandomForestClassifier(bootstrap=True, ccp_alpha=0.0,\n",
       "                       class_weight={0: 0.4, 1: 0.6}, criterion='gini',\n",
       "                       max_depth=None, max_features='auto', max_leaf_nodes=None,\n",
       "                       max_samples=None, min_impurity_decrease=0.0,\n",
       "                       min_impurity_split=None, min_samples_leaf=9,\n",
       "                       min_samples_split=7, min_weight_fraction_leaf=0.0,\n",
       "                       n_estimators=200, n_jobs=-1, oob_score=False,\n",
       "                       random_state=42, verbose=0, warm_start=False)"
      ]
     },
     "execution_count": 58,
     "metadata": {},
     "output_type": "execute_result"
    }
   ],
   "source": [
    "final_model = clf.best_estimator_\n",
    "final_model.fit(X_train_sel, y_train)\n",
    "final_model"
   ]
  },
  {
   "cell_type": "code",
   "execution_count": 59,
   "metadata": {
    "collapsed": false
   },
   "outputs": [
    {
     "data": {
      "text/plain": [
       "(0.933824759241997, 0.9184100418410042, 0.922627850860123)"
      ]
     },
     "execution_count": 59,
     "metadata": {},
     "output_type": "execute_result"
    }
   ],
   "source": [
    "(roc_auc_score(y_test, final_model.predict(X_test_sel)),\n",
    "precision_score(y_test, final_model.predict(X_test_sel)),\n",
    "recall_score(y_test, final_model.predict(X_test_sel)))"
   ]
  },
  {
   "cell_type": "markdown",
   "metadata": {},
   "source": [
    "Our final model sees an improved recall score of 92.26%. While our precision score has dropped about 3%, the cost savings found minimizing recall will still minimize overall penalty costs. \n",
    "\n",
    "To best visualize the tradeoff of recall versus precision, we look at the plotted ROC Curve below."
   ]
  },
  {
   "cell_type": "code",
   "execution_count": 66,
   "metadata": {
    "collapsed": true
   },
   "outputs": [],
   "source": [
    "def plot_roc_curve(model, X_test, y_test):\n",
    "    rf_probs = model.predict_proba(X_test)\n",
    "    rf_probs = rf_probs[:, 1]\n",
    "    ns_probs = [0 for _ in range(len(y_test))]\n",
    "    ns_fpr, ns_tpr, _ = roc_curve(y_test, ns_probs)\n",
    "    rf_fpr, rf_tpr, _ = roc_curve(y_test, rf_probs)\n",
    "\n",
    "    plt.plot(ns_fpr, ns_tpr, linestyle='--', label='No Skill')\n",
    "    plt.plot(rf_fpr, rf_tpr, label='Random Forest')\n",
    "    plt.xlabel('False Positive Rate')\n",
    "    plt.ylabel('True Positive Rate')\n",
    "    plt.title('ROC curve of our best model')\n",
    "    plt.legend()\n",
    "    plt.show()"
   ]
  },
  {
   "cell_type": "code",
   "execution_count": 67,
   "metadata": {
    "collapsed": false
   },
   "outputs": [
    {
     "data": {
      "image/png": "[encoded data removed]",
      "text/plain": [
       "<Figure size 1080x720 with 1 Axes>"
      ]
     },
     "metadata": {},
     "output_type": "display_data"
    }
   ],
   "source": [
    "plot_roc_curve(final_model, X_test_sel, y_test)"
   ]
  },
  {
   "cell_type": "markdown",
   "metadata": {},
   "source": [
    "<center>**Figure 10:** ROC Curve depicting the tradeoff between the TPR and FPR </center>"
   ]
  },
  {
   "cell_type": "markdown",
   "metadata": {},
   "source": [
    "Since each False Negative costs us 50 times more than each False Positive, we need to see how much we can give up in True Positive Rate to improve our False Negative Rate. From the plot above it looks like we can easily reach <0.1 FPR if we are willing to sacrifice 0.2 of TPR. "
   ]
  },
  {
   "cell_type": "markdown",
   "metadata": {},
   "source": [
    "## Conclusion "
   ]
  },
  {
   "cell_type": "markdown",
   "metadata": {},
   "source": [
    "As a reminder the best parameters for our final model turned out to be:\n",
    "* The number of trees in the forest: 200,\n",
    "* The minimum number of samples required to split an internal node: 7\n",
    "* The minimum number of samples required to be at a leaf node: 9\n",
    "\n",
    "Usage of interaction features was also ultimately important for determining features as we lacked domain knowledge because there was no data dictionary. Our final model found a recall score of 92.26% at the cost of decreasing precision close about 3% from previous models down to 91.84%; however, this was important for decreasing penalty costs. As previously mentioned, each False Negative cost 500 dollars versus only 10 dollars for each False Positive. Thus, for every False Positive sacrificed to eliminate a False Negative, we decrease penalty costs by 490 dollars.\n",
    "\n",
    "In conclusion, we learned that in building models, one needs to take into considersation of penalty costs and be aware of what needs to be given up while trying to improve the prediction accuracy. Especially, in the field of drug research, it becomes a more sensitive area and careful considerations need to be made as people's lives are on the line."
   ]
  },
  {
   "cell_type": "code",
   "execution_count": null,
   "metadata": {
    "collapsed": true
   },
   "outputs": [],
   "source": []
  }
 ],
 "metadata": {
  "kernelspec": {
   "display_name": "Python 3",
   "language": "python",
   "name": "python3"
  },
  "language_info": {
   "codemirror_mode": {
    "name": "ipython",
    "version": 3
   },
   "file_extension": ".py",
   "mimetype": "text/x-python",
   "name": "python",
   "nbconvert_exporter": "python",
   "pygments_lexer": "ipython3",
   "version": "3.6.0"
  }
 },
 "nbformat": 4,
 "nbformat_minor": 2
}
